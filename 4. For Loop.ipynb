{
 "cells": [
  {
   "cell_type": "markdown",
   "id": "0582da03-1237-4e32-a62b-453f5477b51c",
   "metadata": {},
   "source": [
    "# Looping\n",
    "\n",
    "Looping adalah proses mengekeksekui suatu baris program secara berulang kali.\n",
    "\n",
    "Ada 2 jenis looping yang ada di Python, yakni __for loop__ dan __while loop__"
   ]
  },
  {
   "cell_type": "code",
   "execution_count": 1,
   "id": "d732b327-dac5-4c97-a17d-e7bbf62578d3",
   "metadata": {},
   "outputs": [
    {
     "name": "stdout",
     "output_type": "stream",
     "text": [
      "0\n",
      "1\n",
      "2\n",
      "3\n",
      "4\n",
      "5\n",
      "6\n",
      "7\n",
      "8\n",
      "9\n"
     ]
    }
   ],
   "source": [
    "for x in range(10): # pencacahan di python dimulai dari 0, dan berakhir\n",
    "    print(x)"
   ]
  },
  {
   "cell_type": "code",
   "execution_count": 2,
   "id": "950a351b-e3a0-4171-ae6b-b2e5a9bf9d97",
   "metadata": {},
   "outputs": [
    {
     "name": "stdout",
     "output_type": "stream",
     "text": [
      "Usia :  25\n",
      "Usia :  24\n",
      "Usia :  26\n",
      "Usia :  30\n",
      "Usia :  32\n",
      "Usia :  35\n",
      "Usia :  20\n"
     ]
    }
   ],
   "source": [
    "# For loop biasanya digunakan untuk melakukan iterasi terhadap kumpulan nilai\n",
    "\n",
    "for usia in [25,24,26,30,32,35,20] :\n",
    "    print(\"Usia : \",usia)"
   ]
  },
  {
   "cell_type": "code",
   "execution_count": 3,
   "id": "011e8f56-b91f-4f6f-bb8a-0058414effd1",
   "metadata": {},
   "outputs": [
    {
     "name": "stdout",
     "output_type": "stream",
     "text": [
      "deret ke -  3 adalah  3\n",
      "deret ke -  4 adalah  5\n",
      "deret ke -  5 adalah  8\n",
      "deret ke -  6 adalah  13\n",
      "deret ke -  7 adalah  21\n",
      "deret ke -  8 adalah  34\n",
      "deret ke -  9 adalah  55\n",
      "deret ke -  10 adalah  89\n",
      "deret ke -  11 adalah  144\n",
      "deret ke -  12 adalah  233\n",
      "deret ke -  13 adalah  377\n",
      "deret ke -  14 adalah  610\n"
     ]
    }
   ],
   "source": [
    "# Deret fibbonaci adalah deret yang merupakan penjumlahan dua bilangan sebelumnya\n",
    "\n",
    "angka1 = 1\n",
    "angka2 = 1\n",
    "angka_baru = angka1 + angka2\n",
    "for i in range(3,15):\n",
    "    angka1 = angka2\n",
    "    angka2 = angka_baru\n",
    "    angka_baru = angka1 + angka2\n",
    "    print(\"deret ke - \", i , \"adalah \", angka_baru)"
   ]
  },
  {
   "cell_type": "markdown",
   "id": "3a54c4bd-1254-4b1d-93b7-1d7ad251535b",
   "metadata": {
    "jp-MarkdownHeadingCollapsed": true
   },
   "source": [
    "# Membuat gambar persegi dengan for loop"
   ]
  },
  {
   "cell_type": "markdown",
   "id": "b2a48b37-3c88-4d6d-a4f1-0628c5a35556",
   "metadata": {},
   "source": [
    "# Versi sederhana dengan isi padat"
   ]
  },
  {
   "cell_type": "code",
   "execution_count": 4,
   "id": "339fdd44-92bc-4497-8b7e-0c406b71269b",
   "metadata": {},
   "outputs": [
    {
     "name": "stdout",
     "output_type": "stream",
     "text": [
      "oooooooooo\n",
      "oooooooooo\n",
      "oooooooooo\n",
      "oooooooooo\n"
     ]
    }
   ],
   "source": [
    "lebar = 10\n",
    "panjang = 4\n",
    "for baris in range(panjang):\n",
    "    print(\"o\" * lebar)"
   ]
  },
  {
   "cell_type": "markdown",
   "id": "537f9c46-9db9-4569-b073-ce35c734f56d",
   "metadata": {},
   "source": [
    "# Versi lebih kompleks dengan isi kosong"
   ]
  },
  {
   "cell_type": "code",
   "execution_count": 5,
   "id": "bd0ba22b-6730-4c59-8edf-709037afaa48",
   "metadata": {},
   "outputs": [
    {
     "name": "stdout",
     "output_type": "stream",
     "text": [
      "oooooooooo\n",
      "o        o\n",
      "o        o\n",
      "oooooooooo\n"
     ]
    }
   ],
   "source": [
    "lebar = 10\n",
    "panjang = 4\n",
    "for baris in range(panjang):\n",
    "    if baris == 0 or baris == (panjang-1) :\n",
    "        gambar = \"o\"*lebar\n",
    "        print(gambar)\n",
    "    else :\n",
    "        gambar = \"o\" + \" \"*(lebar-2) + \"o\"\n",
    "        print(gambar)"
   ]
  },
  {
   "cell_type": "raw",
   "id": "c98ae733-c2d2-4930-aa70-11e1a0027719",
   "metadata": {},
   "source": [
    "# While Loop\n",
    "While loop adalah loop yang berhenti ketika kondisi pengulangan tidak terpenuhi.\n",
    "\n",
    "Misalkan Tono ingin membeli rumah dengan cash keras.  \n",
    "Tono memiliki penghasilan dan pengeluaran yang sangat stabil.  \n",
    "Setiap tahunnya, Tono mendapat kenaikan gaji sebesar 5%.  \n",
    "Karena inflasi, pengeluaran tono setiap tahun bertambah sebanyak 4%.  \n",
    "Harga properti setiap tahun mengalami kenaikan sekitar 6%.  \n",
    "\n",
    "Jika tahun ini gaji tono 120 juta per tahun dan pengeluarnnya 40 juta per tahun, sementara rumah yang ingin dia beli seharga 1 milliar rupiah, berapa tahun Tono harus menabung ?\n"
   ]
  },
  {
   "cell_type": "code",
   "execution_count": 6,
   "id": "1729be5f-4808-449d-a03a-00fff74b3d3a",
   "metadata": {},
   "outputs": [
    {
     "name": "stdout",
     "output_type": "stream",
     "text": [
      "Tahun ke 1, tabungan : 80000000, harga rumah : 1000000000\n",
      "Tahun ke 2, tabungan : 164400000.0, harga rumah : 1060000000.0\n",
      "Tahun ke 3, tabungan : 253436000.0, harga rumah : 1123600000.0\n",
      "Tahun ke 4, tabungan : 347356440.0, harga rumah : 1191016000.0\n",
      "Tahun ke 5, tabungan : 446422847.6, harga rumah : 1262476960.0\n",
      "Tahun ke 6, tabungan : 550910519.0040001, harga rumah : 1338225577.6000001\n",
      "Tahun ke 7, tabungan : 661109235.13916, harga rumah : 1418519112.2560003\n",
      "Tahun ke 8, tabungan : 777324014.6884764, harga rumah : 1503630258.9913604\n",
      "Tahun ke 9, tabungan : 899875905.9269531, harga rumah : 1593848074.530842\n",
      "Tahun ke 10, tabungan : 1029102819.3475156, harga rumah : 1689478959.0026927\n",
      "Tahun ke 11, tabungan : 1165360403.164075, harga rumah : 1790847696.5428543\n",
      "Tahun ke 12, tabungan : 1309022963.8854294, harga rumah : 1898298558.3354256\n",
      "Tahun ke 13, tabungan : 1460484434.2653778, harga rumah : 2012196471.8355513\n",
      "Tahun ke 14, tabungan : 1620159391.0517507, harga rumah : 2132928260.1456845\n",
      "Tahun ke 15, tabungan : 1788484125.0803664, harga rumah : 2260903955.7544255\n",
      "Tahun ke 16, tabungan : 1965917766.389454, harga rumah : 2396558193.0996914\n",
      "Tahun ke 17, tabungan : 2152943467.1661987, harga rumah : 2540351684.685673\n",
      "Tahun ke 18, tabungan : 2350069645.4800715, harga rumah : 2692772785.7668138\n",
      "Tahun ke 19, tabungan : 2557831292.9078608, harga rumah : 2854339152.9128227\n",
      "Tahun ke 20, tabungan : 2776791349.3131905, harga rumah : 3025599502.087592\n",
      "Tahun ke 21, tabungan : 3007542148.209184, harga rumah : 3207135472.2128477\n",
      "Tahun ke 22, tabungan : 3250706936.307191, harga rumah : 3399563600.5456185\n",
      "Tahun ke 23, tabungan : 3506941471.0376, harga rumah : 3603537416.578356\n",
      "Tahun ke 24, tabungan : 3776935700.0211315, harga rumah : 3819749661.573057\n",
      "Tahun ke 25, tabungan : 4061415526.671106, harga rumah : 4048934641.267441\n",
      "Tahun ke 26, tabungan : 4361144666.319535, harga rumah : 4291870719.7434874\n",
      "Tahun ke 27, tabungan : 4676926597.482982, harga rumah : 4549382962.928097\n",
      "Tahun ke 28, tabungan : 5009606613.118499, harga rumah : 4822345940.703783\n",
      "Tahun ke 29, tabungan : 5360073976.966247, harga rumah : 5111686697.14601\n",
      "Tahun ke 30, tabungan : 5729264190.334055, harga rumah : 5418387898.9747715\n",
      "Tahun ke 31, tabungan : 6118161374.951034, harga rumah : 5743491172.913259\n"
     ]
    }
   ],
   "source": [
    "pendapatan_tahunan = 120_000_000\n",
    "harga_rumah = 1_000_000_000\n",
    "pengeluaran_tahunan = 40_000_000\n",
    "\n",
    "kenaikan_pendapatan_per_tahun = 1.05\n",
    "kenaikan_pengeluaran_per_tahun = 1.04\n",
    "kenaikan_harga_rumah_per_tahun = 1.06\n",
    "\n",
    "tabungan = 0\n",
    "\n",
    "tahun = 0\n",
    "while tabungan < harga_rumah:\n",
    "    tahun += 1\n",
    "    \n",
    "    tabungan += pendapatan_tahunan - pengeluaran_tahunan\n",
    "    print(f\"Tahun ke {tahun}, tabungan : {tabungan}, harga rumah : {harga_rumah}\")\n",
    "    pendapatan_tahunan *= kenaikan_pendapatan_per_tahun\n",
    "    pengeluaran_tahunan *= kenaikan_pengeluaran_per_tahun    \n",
    "    harga_rumah *= kenaikan_harga_rumah_per_tahun    \n",
    "    "
   ]
  },
  {
   "cell_type": "markdown",
   "id": "7e4e42c7-b9f5-482b-bf8b-2b290dde5872",
   "metadata": {},
   "source": [
    "# Challenge\n",
    "\n",
    "Setelah melihat estimasi, Tono merasa membeli rumah hanya sekedar mimpi.  \n",
    "Akan tetapi setelah membaca buku mengenai investasi, Tono menemukan bahwa investasi adalah salah satu jalan realistis agar Tono membeli rumah.\n",
    "Asumsikan setiap tahunnya Tono menginvestasikan 90% dari tabungannya untuk investasi dengan return keuntungan sebesar 10%.   \n",
    "Jika semua berjalan dengan sempurna, berapa tahun Tono harus menabung dan berinvestasi agar bisa membeli rumah?  "
   ]
  },
  {
   "cell_type": "code",
   "execution_count": 9,
   "id": "b0cceeb0-626e-46a4-a6b8-ad31cd5d4522",
   "metadata": {},
   "outputs": [
    {
     "name": "stdout",
     "output_type": "stream",
     "text": [
      "Tahun ke 1, tabungan : 87200000.0, harga rumah : 1000000000\n",
      "Tahun ke 2, tabungan : 187044000.0, harga rumah : 1060000000.0\n",
      "Tahun ke 3, tabungan : 300927200.0, harga rumah : 1123600000.0\n",
      "Tahun ke 4, tabungan : 430383927.6, harga rumah : 1191016000.0\n",
      "Tahun ke 5, tabungan : 577100865.3680001, harga rumah : 1262476960.0\n",
      "Tahun ke 6, tabungan : 742931505.0814803, harga rumah : 1338225577.6000001\n",
      "Tahun ke 7, tabungan : 929911941.126138, harga rumah : 1418519112.2560003\n",
      "Tahun ke 8, tabungan : 1140278125.5362453, harga rumah : 1503630258.9913604\n",
      "Tahun ke 9, tabungan : 1376484718.284447, harga rumah : 1593848074.530842\n",
      "Tahun ke 10, tabungan : 1641225678.5584605, harga rumah : 1689478959.0026927\n",
      "Tahun ke 11, tabungan : 1937456755.988772, harga rumah : 1790847696.5428543\n"
     ]
    }
   ],
   "source": [
    "pendapatan_tahunan = 120_000_000\n",
    "harga_rumah = 1_000_000_000\n",
    "pengeluaran_tahunan = 40_000_000\n",
    "\n",
    "kenaikan_pendapatan_per_tahun = 1.05\n",
    "kenaikan_pengeluaran_per_tahun = 1.04\n",
    "kenaikan_harga_rumah_per_tahun = 1.06\n",
    "\n",
    "tabungan = 0\n",
    "\n",
    "tahun = 0\n",
    "while tabungan < harga_rumah:\n",
    "    tahun += 1\n",
    "    \n",
    "    tabungan += pendapatan_tahunan - pengeluaran_tahunan\n",
    "    \n",
    "    # Buat modifikasi yang mensimulasikan investasi Tono\n",
    "    tabungan_untuk_invest = 0.9*tabungan\n",
    "    tabungan_bukan_invest = 0.1*tabungan\n",
    "\n",
    "    tabungan_untuk_invest*= 1.1\n",
    "    tabungan = tabungan_bukan_invest + tabungan_untuk_invest\n",
    "\n",
    "    print(f\"Tahun ke {tahun}, tabungan : {tabungan}, harga rumah : {harga_rumah}\")\n",
    "    pendapatan_tahunan *= kenaikan_pendapatan_per_tahun\n",
    "    pengeluaran_tahunan *= kenaikan_pengeluaran_per_tahun    \n",
    "    harga_rumah *= kenaikan_harga_rumah_per_tahun    "
   ]
  },
  {
   "cell_type": "code",
   "execution_count": null,
   "id": "47b6568e-9291-48da-83e5-a51338319880",
   "metadata": {},
   "outputs": [],
   "source": []
  }
 ],
 "metadata": {
  "kernelspec": {
   "display_name": "Python 3 (ipykernel)",
   "language": "python",
   "name": "python3"
  },
  "language_info": {
   "codemirror_mode": {
    "name": "ipython",
    "version": 3
   },
   "file_extension": ".py",
   "mimetype": "text/x-python",
   "name": "python",
   "nbconvert_exporter": "python",
   "pygments_lexer": "ipython3",
   "version": "3.12.7"
  }
 },
 "nbformat": 4,
 "nbformat_minor": 5
}
