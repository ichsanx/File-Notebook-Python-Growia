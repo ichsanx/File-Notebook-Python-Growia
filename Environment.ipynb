{
 "cells": [
  {
   "cell_type": "markdown",
   "id": "415486ca-6224-4f01-9f02-5881c2750d79",
   "metadata": {},
   "source": [
    "# Virtual Environment with Anaconda\n",
    "\n",
    "Virtual Environmet : Ruang lingkup virtual yang terisolasi sehingga library yang ada didalamnya tidak berinteraksi dengan library pada environment yang berbeda.\n",
    "\n",
    "Virtual environment digunakan agar kita bisa menggunakan library spesifik untuk mengerjakan suatu project sehingga jika orang lain ingin menggunakan kodingan python kita, mereka dapat mengikuti setting virtual environment.\n",
    "\n",
    "\n",
    "# Membuat Virtual Environment baru di Anaconda\n",
    "\n",
    "Pada terminal, ketik \n",
    "`conda create -n <nama_environment> python=<versi_python>`\n",
    "\n",
    "contoh : \n",
    "`conda create -n belajar python=3.8`\n",
    "\n",
    "# Melihat daftar environment yang ada di komputer\n",
    "base adalah environment dasar pada komputer.  \n",
    "\n",
    "`conda env list`\n",
    "\n",
    "# Memilih virtual environment\n",
    "`conda activate <nama_virtual_environment>`\n",
    "\n",
    "# Keluar dari virtual environment\n",
    "`conda deactivate`\n",
    "\n",
    "# Menginstall library baru pada environment\n",
    "\n",
    "bisa dengan `pip` ataupun `conda`. Keduanya merupakan package manager.\n",
    "\n",
    "contoh : `pip install <nama_library>` atau `conda install <nama_library>`\n",
    "\n",
    "# Menghubungkan Virtual Environment anaconda dengan JupyterLab\n",
    "\n",
    "Di dalam virtual environmet :\n",
    "  \n",
    "Jalankan `conda install ipykernel`,   \n",
    "lalu ketik `python -m ipykernel install --user --name=<nama_environment>`  \n",
    "lalu refresh jupyter lab."
   ]
  },
  {
   "cell_type": "code",
   "execution_count": null,
   "id": "397ffb0a-2c93-4a6a-aa27-12bdfc7be182",
   "metadata": {},
   "outputs": [],
   "source": []
  },
  {
   "cell_type": "code",
   "execution_count": null,
   "id": "3eaeae52-c824-4a70-aabd-1e50a94ee216",
   "metadata": {},
   "outputs": [],
   "source": []
  },
  {
   "cell_type": "code",
   "execution_count": null,
   "id": "acd92f96-1551-4b16-8669-c597be4a098f",
   "metadata": {},
   "outputs": [],
   "source": []
  }
 ],
 "metadata": {
  "kernelspec": {
   "display_name": "growia_practice",
   "language": "python",
   "name": "growia_practice"
  },
  "language_info": {
   "codemirror_mode": {
    "name": "ipython",
    "version": 3
   },
   "file_extension": ".py",
   "mimetype": "text/x-python",
   "name": "python",
   "nbconvert_exporter": "python",
   "pygments_lexer": "ipython3",
   "version": "3.10.16"
  }
 },
 "nbformat": 4,
 "nbformat_minor": 5
}
