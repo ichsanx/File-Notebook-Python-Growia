{
 "cells": [
  {
   "cell_type": "markdown",
   "id": "e8075421-9486-4552-839c-d2635d280ce7",
   "metadata": {},
   "source": [
    "# 4 Data Structure di Python\n",
    "\n",
    "Data Struktur adalah suatu cara menyimpan data dalam struktur"
   ]
  },
  {
   "cell_type": "markdown",
   "id": "8d04c744-382f-4f04-9e42-a75f8f975733",
   "metadata": {},
   "source": [
    "# List\n",
    "\n",
    "List adalah struktur yang paling sering digunakan"
   ]
  },
  {
   "cell_type": "code",
   "execution_count": 2,
   "id": "e4adbafe-f68f-48a1-bcd5-33852f3e7abf",
   "metadata": {},
   "outputs": [],
   "source": [
    "ROI_per_tahun = [-20,-5,0,5,10,10,20,20]"
   ]
  },
  {
   "cell_type": "code",
   "execution_count": 8,
   "id": "80f31c95-de19-4c8f-9bc5-92576854910d",
   "metadata": {},
   "outputs": [
    {
     "data": {
      "text/plain": [
       "-20"
      ]
     },
     "execution_count": 8,
     "metadata": {},
     "output_type": "execute_result"
    }
   ],
   "source": [
    "# list memiliki urutan\n",
    "ROI_per_tahun[0] # Mengambil elemen pertama dari list"
   ]
  },
  {
   "cell_type": "markdown",
   "id": "b4ce9f0e-298b-47da-b7ab-1a8efcb4f4eb",
   "metadata": {},
   "source": [
    "List bisa menyimpan berbagai tipe data"
   ]
  },
  {
   "cell_type": "code",
   "execution_count": 12,
   "id": "c55d6767-2ea3-4971-a744-6fe68bd4dfc3",
   "metadata": {},
   "outputs": [],
   "source": [
    "list_campur_aduk = [100,3.14, \"growia\",False,False,[False]]"
   ]
  },
  {
   "cell_type": "code",
   "execution_count": 21,
   "id": "7b0fc346-4115-48b4-9129-b98e85445f28",
   "metadata": {},
   "outputs": [
    {
     "data": {
      "text/plain": [
       "[1, 2, 3, 4, 7]"
      ]
     },
     "execution_count": 21,
     "metadata": {},
     "output_type": "execute_result"
    }
   ],
   "source": [
    "# Operasi yang bisa kita lakukan terhadap list\n",
    "# Menambah Element\n",
    "contoh_list = [1,2,3,4]\n",
    "contoh_list.append(7)\n",
    "contoh_list"
   ]
  },
  {
   "cell_type": "code",
   "execution_count": 22,
   "id": "f77e2c93-1303-4ffc-a9fb-805bdd565b30",
   "metadata": {},
   "outputs": [
    {
     "data": {
      "text/plain": [
       "['Adi', 'Cantika', 'Daniel', 'Erika']"
      ]
     },
     "execution_count": 22,
     "metadata": {},
     "output_type": "execute_result"
    }
   ],
   "source": [
    "# Mengganti Elemen\n",
    "daftar_mahasiswa = ['Adi','Budi','Cantika','Daniel','Erika']\n",
    "daftar_mahasiswa.remove('Budi')\n",
    "daftar_mahasiswa"
   ]
  },
  {
   "cell_type": "code",
   "execution_count": 24,
   "id": "9d52f8b4-747e-4d71-9b16-d3c7a5dab078",
   "metadata": {},
   "outputs": [
    {
     "data": {
      "text/plain": [
       "1"
      ]
     },
     "execution_count": 24,
     "metadata": {},
     "output_type": "execute_result"
    }
   ],
   "source": [
    "# Mencari posisi dari sebuah elemen\n",
    "daftar_mahasiswa = ['Adi','Budi','Cantika','Daniel','Erika']\n",
    "daftar_mahasiswa.index('Budi')"
   ]
  },
  {
   "cell_type": "code",
   "execution_count": 30,
   "id": "05c94943-2fa8-4766-a63a-26e87de9786b",
   "metadata": {},
   "outputs": [],
   "source": [
    "# Mengganti elemen\n",
    "daftar_mahasiswa = ['Adi','Budi','Cantika','Daniel','Erika']\n",
    "daftar_mahasiswa[1] = 'Budhie'"
   ]
  },
  {
   "cell_type": "markdown",
   "id": "16c9dba2-5fda-477e-ab20-261e1da56b1a",
   "metadata": {},
   "source": [
    "# Iterasi dengan List"
   ]
  },
  {
   "cell_type": "code",
   "execution_count": 31,
   "id": "7c97a7bc-3f06-4681-868c-2652ff16cc81",
   "metadata": {},
   "outputs": [
    {
     "name": "stdout",
     "output_type": "stream",
     "text": [
      "Adi\n",
      "Budhie\n",
      "Cantika\n",
      "Daniel\n",
      "Erika\n"
     ]
    }
   ],
   "source": [
    "for murid in daftar_mahasiswa:\n",
    "    print(murid)"
   ]
  },
  {
   "cell_type": "markdown",
   "id": "0479486c-e692-4013-82a3-447829f13fbd",
   "metadata": {},
   "source": [
    "## built-in function untuk operasi list"
   ]
  },
  {
   "cell_type": "code",
   "execution_count": 32,
   "id": "49f4826e-3529-441d-b18a-fa0ad98a9031",
   "metadata": {},
   "outputs": [
    {
     "data": {
      "text/plain": [
       "15"
      ]
     },
     "execution_count": 32,
     "metadata": {},
     "output_type": "execute_result"
    }
   ],
   "source": [
    "sum([1,2,3,4,5])"
   ]
  },
  {
   "cell_type": "code",
   "execution_count": 33,
   "id": "5947874a-8995-4569-b1d0-e69a4c292b76",
   "metadata": {},
   "outputs": [
    {
     "data": {
      "text/plain": [
       "5"
      ]
     },
     "execution_count": 33,
     "metadata": {},
     "output_type": "execute_result"
    }
   ],
   "source": [
    "len([1,2,3,4,5])"
   ]
  },
  {
   "cell_type": "markdown",
   "id": "0dd9d558-c262-4634-945b-66daf4457523",
   "metadata": {},
   "source": [
    "# Challenge\n",
    "\n",
    "Perusahaan anda bekerjasama dengan suatu bank untuk meluncurkan produk kartu kredit.  \n",
    "Pada halaman utama aplikasi, dibuat suatu banner promosi kartu kredit tersebut.\n",
    "Anda ingin diminta untuk menghitung CTR dari promosi kartu kredit tersebut.\n",
    "\n",
    "__CTR__ adalah metric yang rasio user yang mengklik tautan tertentu dengan jumlah total pengguna yang melihat halaman,\n",
    "\n",
    "Data yang anda terima berupa list of list.  \n",
    "Setiap list terdiri dari 2 angka, yakni banyaknya orang yang membuka aplikasi dan banyaknya orang yang meng klik banner kartu kredit.  \n",
    "Hari yang berbeda akan disimpan dalam list yang berbeda.\n",
    "\n",
    "Contoh = `[[1000,50],[900,10]]` berarti : \n",
    "- Pada hari pertama, ada 1000 user membuka aplikasi dan 50 user melakukan klik.  \n",
    "- Pada hari kedua, ada 900 user membuka aplikasi dan 10 user melakukan klik.\n",
    "\n",
    "Lakukan perhitungan CTR berdasarkan data berikut :"
   ]
  },
  {
   "cell_type": "code",
   "execution_count": 36,
   "id": "5dc2629e-eaa9-4882-a0a4-ea135d5ac7bf",
   "metadata": {},
   "outputs": [],
   "source": [
    "data = [\n",
    "    [500,20],\n",
    "    [300,15],\n",
    "    [1000,60],\n",
    "    [1000,50],\n",
    "    [200,10],\n",
    "    [100,10]\n",
    "]"
   ]
  },
  {
   "cell_type": "code",
   "execution_count": 37,
   "id": "561d2e3a-f2a4-4f32-a832-30e64fe4e70a",
   "metadata": {},
   "outputs": [
    {
     "data": {
      "text/plain": [
       "[0.04, 0.05, 0.06, 0.05, 0.05, 0.1]"
      ]
     },
     "execution_count": 37,
     "metadata": {},
     "output_type": "execute_result"
    }
   ],
   "source": [
    "list_ctr = []\n",
    "for view, click in data:\n",
    "    ctr = click / view\n",
    "    list_ctr.append(ctr)\n",
    "list_ctr"
   ]
  },
  {
   "cell_type": "code",
   "execution_count": 38,
   "id": "be07b137-83c6-4360-8042-253b1099d2de",
   "metadata": {},
   "outputs": [
    {
     "name": "stdout",
     "output_type": "stream",
     "text": [
      "CTR: 3.16%\n"
     ]
    }
   ],
   "source": [
    "#Jawaban lain\n",
    "# Data: [jumlah tampilan, jumlah klik]\n",
    "data = [[1000, 50], [900, 10]]\n",
    "\n",
    "# Hitung total tampilan dan total klik\n",
    "total_views = sum([hari[0] for hari in data])\n",
    "total_clicks = sum([hari[1] for hari in data])\n",
    "\n",
    "# Hitung CTR\n",
    "ctr = (total_clicks / total_views) * 100\n",
    "\n",
    "# Tampilkan hasil\n",
    "print(f\"CTR: {ctr:.2f}%\")"
   ]
  },
  {
   "cell_type": "code",
   "execution_count": 39,
   "id": "a66a13ef-56e2-4dd1-90dd-511d9646d302",
   "metadata": {},
   "outputs": [
    {
     "name": "stdout",
     "output_type": "stream",
     "text": [
      "3.1578947368421053\n"
     ]
    }
   ],
   "source": [
    "#Jawaban lain\n",
    "#data tampilan dan jml klick\n",
    "data = [[1000,50],[900,10]]\n",
    "\n",
    "#perhitungan\n",
    "total_views = sum ([1000,900])\n",
    "total_klick = sum ([50,10])\n",
    "\n",
    "#hitung CTR\n",
    "ctr = (total_klick / total_views) * 100\n",
    "\n",
    "#tampilkan hasil\n",
    "print (ctr)"
   ]
  }
 ],
 "metadata": {
  "kernelspec": {
   "display_name": "Python 3 (ipykernel)",
   "language": "python",
   "name": "python3"
  },
  "language_info": {
   "codemirror_mode": {
    "name": "ipython",
    "version": 3
   },
   "file_extension": ".py",
   "mimetype": "text/x-python",
   "name": "python",
   "nbconvert_exporter": "python",
   "pygments_lexer": "ipython3",
   "version": "3.12.7"
  }
 },
 "nbformat": 4,
 "nbformat_minor": 5
}
