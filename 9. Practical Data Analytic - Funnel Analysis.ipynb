{
 "cells": [
  {
   "cell_type": "markdown",
   "id": "648d2ba7-9918-497c-8127-4350cb1858b8",
   "metadata": {},
   "source": [
    "# Customer Funnel Analysis\n",
    "\n",
    "Dataset : https://www.kaggle.com/aerodinamicc/ecommerce-website-funnel-analysis"
   ]
  },
  {
   "cell_type": "code",
   "execution_count": null,
   "id": "87c79c01-c7f2-412f-855b-abf283c87cf3",
   "metadata": {},
   "outputs": [],
   "source": [
    "import pandas as pd"
   ]
  },
  {
   "cell_type": "code",
   "execution_count": null,
   "id": "419abefc-3c94-4e7d-a93f-a25357fd1145",
   "metadata": {},
   "outputs": [],
   "source": [
    "folder = \"ecommerce_website\"\n",
    "df_homepage = pd.read_csv(f\"{folder}/home_page_table.csv\")\n",
    "df_payment_confirm = pd.read_csv(f\"{folder}/payment_confirmation_table.csv\")\n",
    "df_payment = pd.read_csv(f\"{folder}/payment_page_table.csv\")\n",
    "df_search = pd.read_csv(f\"{folder}/search_page_table.csv\")"
   ]
  },
  {
   "cell_type": "code",
   "execution_count": null,
   "id": "fae29bec-5a20-40a9-830a-e4b73fe6227e",
   "metadata": {},
   "outputs": [],
   "source": [
    "df_user = pd.read_csv(f\"{folder}/user_table.csv\",parse_dates = ['date'])"
   ]
  },
  {
   "cell_type": "markdown",
   "id": "3a38d5a4-f27a-4234-97d9-7c2ff283f425",
   "metadata": {},
   "source": [
    "# Pemahaman data"
   ]
  },
  {
   "cell_type": "code",
   "execution_count": null,
   "id": "7c8a065b-0cdb-4323-acc3-65378c5c6086",
   "metadata": {},
   "outputs": [],
   "source": [
    "df_user.sample(2)"
   ]
  },
  {
   "cell_type": "code",
   "execution_count": null,
   "id": "f181a3d2-83ff-4c3c-a8e5-ede22174efb7",
   "metadata": {},
   "outputs": [],
   "source": [
    "print(df_user.shape)\n",
    "df_user['user_id'].nunique()"
   ]
  },
  {
   "cell_type": "code",
   "execution_count": null,
   "id": "1171de6d-05e4-40e9-9b3f-3a71a3683d65",
   "metadata": {},
   "outputs": [],
   "source": [
    "display(df_homepage.sample(2))\n",
    "df_homepage['page'].value_counts()"
   ]
  },
  {
   "cell_type": "code",
   "execution_count": null,
   "id": "6d06e4cc-5996-4a24-8b52-3105c0cd5e6b",
   "metadata": {},
   "outputs": [],
   "source": [
    "display(df_search.sample(2))\n",
    "df_search['page'].value_counts()"
   ]
  },
  {
   "cell_type": "code",
   "execution_count": null,
   "id": "868b6b6b-82af-4eb5-af10-c76e4978bc9c",
   "metadata": {},
   "outputs": [],
   "source": [
    "display(df_payment.sample(2))\n",
    "df_payment['page'].value_counts()"
   ]
  },
  {
   "cell_type": "code",
   "execution_count": null,
   "id": "b6fd19c6-5a2d-442e-943b-cfc0eae7a5aa",
   "metadata": {},
   "outputs": [],
   "source": [
    "display(df_payment_confirm.sample(2))\n",
    "df_payment_confirm['page'].value_counts()"
   ]
  },
  {
   "cell_type": "markdown",
   "id": "77cec6ad-0bd6-417a-b58b-4b4a0c684e0a",
   "metadata": {},
   "source": [
    "## Kesimpulan awal :   \n",
    "Data dapat digabung\n",
    "\n",
    "## Preprocessing data agar mudah diolah"
   ]
  },
  {
   "cell_type": "code",
   "execution_count": null,
   "id": "66cadd75-3a8a-4069-a21c-9cff57669329",
   "metadata": {},
   "outputs": [],
   "source": [
    "df_user_activity = pd.concat([df_homepage,df_search,df_payment,df_payment_confirm],axis=0)\n",
    "df_user_activity['value'] = 1\n",
    "df_user_activity"
   ]
  },
  {
   "cell_type": "code",
   "execution_count": null,
   "id": "e363b23e-39d3-4c10-b35a-d60d9f3d29be",
   "metadata": {},
   "outputs": [],
   "source": [
    "df_user_activity_pivot = df_user_activity.pivot(index='user_id',columns='page',values='value')\n",
    "df_user_activity_pivot"
   ]
  },
  {
   "cell_type": "code",
   "execution_count": null,
   "id": "339176c5-f811-4322-9520-86285648e923",
   "metadata": {},
   "outputs": [],
   "source": [
    "funnel_cols = ['home_page','search_page','payment_page','payment_confirmation_page']\n",
    "\n",
    "df_user_activity_pivot = df_user_activity_pivot.fillna(0).reset_index()\n",
    "df_user_activity_pivot = df_user_activity_pivot[['user_id']+funnel_cols]\n",
    "df_user_activity_pivot"
   ]
  },
  {
   "cell_type": "code",
   "execution_count": null,
   "id": "83aa4188-c21d-4a1e-b598-8c22a26f9e70",
   "metadata": {},
   "outputs": [],
   "source": [
    "df_funnel = df_user.merge(df_user_activity_pivot,on=['user_id'],how='inner')\n",
    "df_funnel"
   ]
  },
  {
   "cell_type": "markdown",
   "id": "71f5829b-d2cf-451b-8733-fdb7c1871504",
   "metadata": {},
   "source": [
    "# Funnel Analysis"
   ]
  },
  {
   "cell_type": "code",
   "execution_count": null,
   "id": "d1abbd10-39f2-4cfb-9ede-38637580b694",
   "metadata": {},
   "outputs": [],
   "source": [
    "pip install plotly"
   ]
  },
  {
   "cell_type": "code",
   "execution_count": null,
   "id": "d552a24d-3c57-4f14-8947-d3c650c67b64",
   "metadata": {},
   "outputs": [],
   "source": [
    "import plotly.express as px"
   ]
  },
  {
   "cell_type": "code",
   "execution_count": null,
   "id": "3948b303-2c25-432c-9a0c-a2e6e6589f0d",
   "metadata": {},
   "outputs": [],
   "source": [
    "df_plot_funnel = df_funnel[funnel_cols].sum(axis=0).to_frame('count').reset_index()\n",
    "df_plot_funnel"
   ]
  },
  {
   "cell_type": "code",
   "execution_count": null,
   "id": "424fcdbf-209e-450f-9276-80c006e23b80",
   "metadata": {},
   "outputs": [],
   "source": [
    "df_funnel.sort_values('date')"
   ]
  },
  {
   "cell_type": "code",
   "execution_count": null,
   "id": "bd2e5448-c4fe-4d4f-8278-a1f5f773e93d",
   "metadata": {},
   "outputs": [],
   "source": [
    "df_plot_funnel = df_funnel[funnel_cols].sum(axis=0).to_frame('count').reset_index()\n",
    "fig = px.funnel(df_plot_funnel,x='index',y='count')\n",
    "fig.show()"
   ]
  },
  {
   "cell_type": "code",
   "execution_count": null,
   "id": "f1ffa332-2f66-42f2-803a-b542d1044a9a",
   "metadata": {},
   "outputs": [],
   "source": [
    "df_plot_funnel = df_funnel.query(\"date<'2015-02-01'\")[funnel_cols].sum(axis=0).to_frame('count').reset_index()\n",
    "fig = px.funnel(df_plot_funnel,x='index',y='count')\n",
    "fig.show()"
   ]
  },
  {
   "cell_type": "code",
   "execution_count": null,
   "id": "ff3fd95e-d8a7-4df8-8ff7-6814cdbc4da9",
   "metadata": {},
   "outputs": [],
   "source": [
    "df_plot_funnel = df_funnel.query(\"date>='2015-04-01'\")[funnel_cols].sum(axis=0).to_frame('count').reset_index()\n",
    "fig = px.funnel(df_plot_funnel,x='index',y='count')\n",
    "fig.show()"
   ]
  },
  {
   "cell_type": "code",
   "execution_count": null,
   "id": "e1cc6b21-98d0-4352-ad0a-ea34ad876a96",
   "metadata": {},
   "outputs": [],
   "source": [
    "df_plot_funnel = df_funnel[funnel_cols].sum(axis=0).to_frame('count').reset_index()\n",
    "df_plot_funnel['count_from_previous'] = df_plot_funnel['count'].shift(1)"
   ]
  },
  {
   "cell_type": "code",
   "execution_count": null,
   "id": "b74cdc84-b232-43a3-ac4a-497b1d860d40",
   "metadata": {},
   "outputs": [],
   "source": [
    "df_plot_funnel['conversion_rate'] = df_plot_funnel['count']/df_plot_funnel['count_from_previous']\n",
    "df_plot_funnel"
   ]
  },
  {
   "cell_type": "markdown",
   "id": "9a0f1059-52aa-4b24-ae6f-48a7341f355d",
   "metadata": {},
   "source": [
    "# Trend Analysis"
   ]
  },
  {
   "cell_type": "code",
   "execution_count": null,
   "id": "ec34d911-8482-44ca-b83b-1643d4feee7e",
   "metadata": {},
   "outputs": [],
   "source": [
    "df_funnel"
   ]
  },
  {
   "cell_type": "code",
   "execution_count": null,
   "id": "0c726393-ad42-4128-b185-4fbf525bc886",
   "metadata": {},
   "outputs": [],
   "source": [
    "df_funnel.groupby('date')[funnel_cols].sum().plot()"
   ]
  },
  {
   "cell_type": "code",
   "execution_count": null,
   "id": "cb353206-2504-4f8a-b715-9a47f630d909",
   "metadata": {},
   "outputs": [],
   "source": [
    "df_funnel_daily = df_funnel.groupby(['date','sex','device'],as_index=False)[funnel_cols].sum()\n",
    "df_funnel_daily"
   ]
  },
  {
   "cell_type": "code",
   "execution_count": null,
   "id": "135f99d3-674b-4b5c-a605-cb273a1e4f81",
   "metadata": {},
   "outputs": [],
   "source": [
    "df_funnel_daily = df_funnel_daily.melt(id_vars=['date','sex','device'],value_vars = funnel_cols,var_name='funnel',value_name='count')\n",
    "df_funnel_daily"
   ]
  },
  {
   "cell_type": "code",
   "execution_count": null,
   "id": "396e5de3-00ae-423e-8035-92878ef1ee45",
   "metadata": {},
   "outputs": [],
   "source": [
    "import seaborn as sns\n",
    "\n",
    "g = sns.FacetGrid(df_funnel_daily, col=\"device\",  row=\"sex\")\n",
    "g.map(sns.lineplot, \"date\", \"count\",\"funnel\")"
   ]
  },
  {
   "cell_type": "code",
   "execution_count": null,
   "id": "0dd1c95f-3efc-49f2-9321-e5631df84b44",
   "metadata": {},
   "outputs": [],
   "source": [
    "df_funnel_daily = df_funnel.groupby(['date','device'],as_index=False)[funnel_cols].sum()\n",
    "df_funnel_daily = df_funnel_daily.melt(id_vars=['date','device'],value_vars = funnel_cols,var_name='funnel',value_name='count')\n",
    "df_funnel_daily\n",
    "import seaborn as sns\n",
    "import matplotlib.pyplot as plt\n",
    "\n",
    "\n",
    "g = sns.FacetGrid(df_funnel_daily, col=\"device\",height=10)\n",
    "g.map(sns.lineplot, \"date\", \"count\",\"funnel\")\n"
   ]
  },
  {
   "cell_type": "code",
   "execution_count": null,
   "id": "210b8438-9950-4cdd-a368-0d1714548da2",
   "metadata": {},
   "outputs": [],
   "source": []
  }
 ],
 "metadata": {
  "kernelspec": {
   "display_name": "Python 3 (ipykernel)",
   "language": "python",
   "name": "python3"
  },
  "language_info": {
   "codemirror_mode": {
    "name": "ipython",
    "version": 3
   },
   "file_extension": ".py",
   "mimetype": "text/x-python",
   "name": "python",
   "nbconvert_exporter": "python",
   "pygments_lexer": "ipython3",
   "version": "3.10.9"
  }
 },
 "nbformat": 4,
 "nbformat_minor": 5
}
