{
 "cells": [
  {
   "cell_type": "markdown",
   "id": "9ca8857b-b713-4253-a243-3b39294b38a1",
   "metadata": {},
   "source": [
    "# Function\n",
    "\n",
    "Function adalah kode program yang dirancang untuk menyelesaikan sebuah tugas tertentu.\n",
    "\n",
    "Berdasarkan sumbernya, function dapat dibagi 3:\n",
    "\n",
    "- Function yang dimiliki oleh Python\n",
    "- Function yang dibuat sendiri    \n",
    "- Function yang dibuat oleh developer melalui library. "
   ]
  },
  {
   "cell_type": "markdown",
   "id": "5672439f-ad9b-40ec-9d7c-9a4c2818d9f0",
   "metadata": {},
   "source": [
    "## Contoh function yang dibuat oleh Python\n",
    "\n",
    "Function yang dibuat oleh PytWeatherting With You > Your Namehon biasanya kita sebut sebagai ___built-in function___ \n",
    "\n",
    "Python tidak memiliki terlalu banyak fungsi yang bisa kita gunakan. "
   ]
  },
  {
   "cell_type": "code",
   "execution_count": 1,
   "id": "802af04c-f2e5-4d5c-8b72-2e444313928a",
   "metadata": {},
   "outputs": [
    {
     "data": {
      "text/plain": [
       "20"
      ]
     },
     "execution_count": 1,
     "metadata": {},
     "output_type": "execute_result"
    }
   ],
   "source": [
    "abs(-20)"
   ]
  },
  {
   "cell_type": "code",
   "execution_count": 2,
   "id": "316cf9f5-5eba-4c96-8727-e7215676517a",
   "metadata": {},
   "outputs": [
    {
     "data": {
      "text/plain": [
       "'50'"
      ]
     },
     "execution_count": 2,
     "metadata": {},
     "output_type": "execute_result"
    }
   ],
   "source": [
    "str(50)"
   ]
  },
  {
   "cell_type": "markdown",
   "id": "a3539d25-3335-4df6-9171-e0602a5797ba",
   "metadata": {},
   "source": [
    "## Function yang dibuat oleh user"
   ]
  },
  {
   "cell_type": "code",
   "execution_count": 1,
   "id": "69aa9b20-0afc-4d9a-8526-914f6ab62341",
   "metadata": {},
   "outputs": [],
   "source": [
    "def sapa_user(nama_user) : \n",
    "    text = \"Halo \" + nama_user\n",
    "    return text"
   ]
  },
  {
   "cell_type": "code",
   "execution_count": 2,
   "id": "c1954044-0985-4f8b-9535-db746958704f",
   "metadata": {},
   "outputs": [
    {
     "data": {
      "text/plain": [
       "'Halo Anthony'"
      ]
     },
     "execution_count": 2,
     "metadata": {},
     "output_type": "execute_result"
    }
   ],
   "source": [
    "sapa_user(\"Anthony\")"
   ]
  },
  {
   "cell_type": "code",
   "execution_count": 6,
   "id": "79bbd86a-bc95-4448-b554-c74ff269be7e",
   "metadata": {},
   "outputs": [
    {
     "data": {
      "text/plain": [
       "'Halo Shela'"
      ]
     },
     "execution_count": 6,
     "metadata": {},
     "output_type": "execute_result"
    }
   ],
   "source": [
    "sapa_user(\"Shela\")"
   ]
  },
  {
   "cell_type": "markdown",
   "id": "89ec0c55-bfd3-4c71-9b86-897ed137319c",
   "metadata": {},
   "source": [
    "Function memiliki 3 keuntungan :\n",
    "- __Reusability__  \n",
    "Function dapat dipanggil berkali-kali tanpa perlu   \n",
    "- __Abstraction__  \n",
    "Kita dapat \"membungkus\" bagian yang kompleks dari code sehingga readibility dari code bertambah\n",
    "- __Modularization__  \n",
    "Kita dapat mengelompokkan bagian kode yang memiliki tujuan sama menjadi sebuah fungsi sehingga kode semakin mudah untuk di-_maintain_"
   ]
  },
  {
   "cell_type": "code",
   "execution_count": 7,
   "id": "87211759-f52b-4c2e-b533-285a9ecf135d",
   "metadata": {},
   "outputs": [],
   "source": [
    "def penghasilan_kena_pajak(penghasilan_tahunan,sudah_menikah,jumlah_tanggungan) :\n",
    "    if penghasilan_tahunan<60000000:\n",
    "        return 0\n",
    "    else :\n",
    "        ptkp =  54000000 + 4500000*jumlah_tanggungan\n",
    "        if sudah_menikah :\n",
    "            ptkp += 4500000\n",
    "            \n",
    "        pkp = penghasilan_tahunan-ptkp\n",
    "        return pkp\n",
    "    \n",
    "def hitung_pph21(penghasilan_tahunan,sudah_menikah,jumlah_tanggungan):\n",
    "    \n",
    "    pkp = penghasilan_kena_pajak(penghasilan_tahunan,sudah_menikah,jumlah_tanggungan)\n",
    "    \n",
    "    pajak = 0\n",
    "    if pkp < 60000000 :\n",
    "        pajak += pkp*0.05\n",
    "    else :\n",
    "        pajak += 60000000*0.05\n",
    "        if pkp < 250000000 :\n",
    "            pajak += (pkp - 60000000)*0.15\n",
    "        else :\n",
    "            pajak += (190_000_000 * 0.15)\n",
    "            \n",
    "            if pkp<500_000_000 :\n",
    "                pajak += (pkp-250_000_000)*0.25\n",
    "            else :\n",
    "                pajak += (500_000_000)*0.25\n",
    "                \n",
    "                if pkp < 5_000_000_000 : \n",
    "                    pajak += (pkp-500_000_000)*0.3\n",
    "                else :\n",
    "                    pajak += 4_500_000_000*0.3\n",
    "                    \n",
    "                    if pkp > 5_000_000_000 : \n",
    "                        pajak += (pkp - 5_000_000_000)*0.35\n",
    "    return pajak"
   ]
  },
  {
   "cell_type": "code",
   "execution_count": 8,
   "id": "d99683f2-9484-4a74-b1de-4359fc637625",
   "metadata": {},
   "outputs": [
    {
     "data": {
      "text/plain": [
       "70808333.33333333"
      ]
     },
     "execution_count": 8,
     "metadata": {},
     "output_type": "execute_result"
    }
   ],
   "source": [
    "penghasilan_tahunan = 100000000*12\n",
    "sudah_menikah = False\n",
    "jumlah_tanggungan = 0\n",
    "(penghasilan_tahunan - hitung_pph21(penghasilan_tahunan,sudah_menikah,jumlah_tanggungan))/12"
   ]
  },
  {
   "cell_type": "markdown",
   "id": "7ec7a09e-9cba-4336-a936-1d0e3af13ba5",
   "metadata": {},
   "source": [
    "# Challenge\n",
    "\n",
    "1. Buat beberapa fungsi untuk menghitung ROI dan komponennya.\n",
    "\n",
    "Formula yang dapat digunakan :   \n",
    "$$ROI = \\frac{Revenue-Cost}{Cost}$$  \n",
    "$$Revenue = Price \\times UnitSold$$"
   ]
  },
  {
   "cell_type": "code",
   "execution_count": 5,
   "id": "251c5ce7-3034-4051-af8e-6fe0a8ce2c36",
   "metadata": {},
   "outputs": [],
   "source": [
    "def cost(subsidy_cost,ads_cost):\n",
    "    return subsidy_cost + ads_cost # Ici code yang kosong\n",
    "\n",
    "def revenue(price,unit_sold):\n",
    "    return price * unit_sold # isi code yang kosong\n",
    "\n",
    "def roi(price,unit_sold,subsidy_cost,ads_cost):\n",
    "    total_cost = cost(subsidy_cost, ads_cost)\n",
    "    total_revenue = revenue(price, unit_sold)\n",
    "    total_roi = (total_revenue - total_cost) / total_cost \n",
    "    return (total_roi) # isi code yang kosong, gunakan fungsi cost dan revenue."
   ]
  },
  {
   "cell_type": "code",
   "execution_count": 6,
   "id": "9929645a-1d47-478f-80ca-d3dd08121945",
   "metadata": {},
   "outputs": [
    {
     "data": {
      "text/plain": [
       "-0.9990909090909091"
      ]
     },
     "execution_count": 6,
     "metadata": {},
     "output_type": "execute_result"
    }
   ],
   "source": [
    "roi(10000,10,10000000,100000000)"
   ]
  },
  {
   "cell_type": "markdown",
   "id": "12239e7a-80d7-4ea1-8b4b-714d707cb9ae",
   "metadata": {},
   "source": [
    "2. Kembali ke kasus sebelumnya, tim marketing memberikan 2 proposal. Proposal yang pertama fokus terhadap diskon barang, sementara proposal yang kedua fokus terhadap iklan. Tim analisis membuat prediksi penjualan dan kamu diminta untuk menghitung diantara 2 strategi tersebut, strategi mana yang memberikan ROI lebih baik"
   ]
  },
  {
   "cell_type": "code",
   "execution_count": 7,
   "id": "bbdb0a47-af23-40d4-924c-14c411b654e1",
   "metadata": {},
   "outputs": [
    {
     "data": {
      "text/plain": [
       "12.75"
      ]
     },
     "execution_count": 7,
     "metadata": {},
     "output_type": "execute_result"
    }
   ],
   "source": [
    "# Skenario 1\n",
    "subsidy_cost = 5_000_000\n",
    "ads_cost = 1_000_000\n",
    "item_price_after_discount = 55000\n",
    "unit_sold = 1500\n",
    "\n",
    "# hitung roi dengan fungsi yang sudah dibuat\n",
    "roi (item_price_after_discount,unit_sold,subsidy_cost,ads_cost)"
   ]
  },
  {
   "cell_type": "code",
   "execution_count": 8,
   "id": "63c53b56-1f97-4ae4-9bed-2cef0e1320c3",
   "metadata": {},
   "outputs": [
    {
     "data": {
      "text/plain": [
       "13.0"
      ]
     },
     "execution_count": 8,
     "metadata": {},
     "output_type": "execute_result"
    }
   ],
   "source": [
    "# Skenario 2\n",
    "subsidy_cost = 1000000\n",
    "ads_cost = 5000000\n",
    "item_price_after_discount = 70000\n",
    "unit_sold = 1200\n",
    "\n",
    "# hitung roi dengan fungsi yang sudah dibuat\n",
    "roi (item_price_after_discount,unit_sold,subsidy_cost,ads_cost)"
   ]
  }
 ],
 "metadata": {
  "kernelspec": {
   "display_name": "Python 3 (ipykernel)",
   "language": "python",
   "name": "python3"
  },
  "language_info": {
   "codemirror_mode": {
    "name": "ipython",
    "version": 3
   },
   "file_extension": ".py",
   "mimetype": "text/x-python",
   "name": "python",
   "nbconvert_exporter": "python",
   "pygments_lexer": "ipython3",
   "version": "3.12.7"
  }
 },
 "nbformat": 4,
 "nbformat_minor": 5
}
