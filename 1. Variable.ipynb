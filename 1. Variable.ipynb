{
 "cells": [
  {
   "cell_type": "markdown",
   "id": "337612d4-5316-4b6a-9fa5-43ddc9e33fd6",
   "metadata": {},
   "source": [
    "# Variable\n",
    "\n",
    "Variable adalah sebuah nama yang menyimpan nilai di Python"
   ]
  },
  {
   "cell_type": "code",
   "execution_count": null,
   "id": "632451c0-e5cf-4dc2-be16-cd9054381925",
   "metadata": {},
   "outputs": [],
   "source": [
    "x = 5"
   ]
  },
  {
   "cell_type": "markdown",
   "id": "aa3bc0a5-8017-4c05-af3c-e07ec68411bf",
   "metadata": {},
   "source": [
    "Variable hanya boleh ditulis dengan : \n",
    "- huruf\n",
    "- angka\n",
    "- garis bawah  \n",
    "dan angka tidak boleh berada didepan nama variable"
   ]
  },
  {
   "cell_type": "code",
   "execution_count": 1,
   "id": "600b742a-cdcd-42d2-9d5a-9df8978b4758",
   "metadata": {},
   "outputs": [],
   "source": [
    "BebanPokok = 100000\n",
    "GDP2050 = 100000\n",
    "_umur = 25"
   ]
  },
  {
   "cell_type": "markdown",
   "id": "cb0c913e-ba14-4f3f-977c-3be3cc66fceb",
   "metadata": {},
   "source": [
    "# Tipe data primitive di Python : \n",
    "\n",
    "- Integer : Bilangan bulat \n",
    "- Float : Bilangan pecahan\n",
    "- String : Tulisan\n",
    "- Boolean : Bernilai True atau False"
   ]
  },
  {
   "cell_type": "code",
   "execution_count": null,
   "id": "e232261f-16b2-4762-8912-efe30fbd1a4e",
   "metadata": {},
   "outputs": [],
   "source": [
    "umur = 25 # Integer"
   ]
  },
  {
   "cell_type": "code",
   "execution_count": null,
   "id": "349f3579-bc2c-4dbc-9a74-1b38431f0e60",
   "metadata": {},
   "outputs": [],
   "source": [
    "TinggiBadan = 174.1 # Float"
   ]
  },
  {
   "cell_type": "code",
   "execution_count": 3,
   "id": "74bc2bea-4eb3-46de-b382-3a8fc249c308",
   "metadata": {},
   "outputs": [],
   "source": [
    "TempatBelajar = 'Growia' # String\n",
    "Nama = \"Vinson\" # dapat menggunakan petik dua(\"). Antar petik satu(') dan petik dua (\") tidak boleh dicampur"
   ]
  },
  {
   "cell_type": "code",
   "execution_count": 4,
   "id": "a2c43918-c691-4680-9070-b446fab62f3e",
   "metadata": {},
   "outputs": [],
   "source": [
    "ingin_sukses = True"
   ]
  },
  {
   "cell_type": "markdown",
   "id": "2bfc628c-0a8f-4e2e-bba0-050a5ea0875a",
   "metadata": {},
   "source": [
    "# Tips : \n",
    "Gunakan nama variabel yang singkat tetapi tetap mudah dipahami"
   ]
  },
  {
   "cell_type": "code",
   "execution_count": null,
   "id": "b7e43204-6ad7-4bd5-995a-56e481f4062a",
   "metadata": {},
   "outputs": [],
   "source": [
    "#Lebih Direkomendasikan\n",
    "penghasilan_bulanan = 10000000\n",
    "jumlah_tanggungan = 0\n",
    "sudah_menikah = False\n",
    "\n",
    "# Kurang Direkomendasikan\n",
    "x = 10000000\n",
    "y = 0\n",
    "aa = False"
   ]
  }
 ],
 "metadata": {
  "kernelspec": {
   "display_name": "Python 3 (ipykernel)",
   "language": "python",
   "name": "python3"
  },
  "language_info": {
   "codemirror_mode": {
    "name": "ipython",
    "version": 3
   },
   "file_extension": ".py",
   "mimetype": "text/x-python",
   "name": "python",
   "nbconvert_exporter": "python",
   "pygments_lexer": "ipython3",
   "version": "3.12.7"
  }
 },
 "nbformat": 4,
 "nbformat_minor": 5
}
