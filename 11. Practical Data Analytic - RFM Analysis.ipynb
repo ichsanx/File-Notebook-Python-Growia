{
 "cells": [
  {
   "cell_type": "code",
   "execution_count": null,
   "id": "772b2d73-13fc-4713-a494-610b122d08d2",
   "metadata": {},
   "outputs": [],
   "source": [
    "import pandas as pd"
   ]
  },
  {
   "cell_type": "code",
   "execution_count": null,
   "id": "95e8f86a-e1f7-468e-ac88-04cf35e16d2a",
   "metadata": {},
   "outputs": [],
   "source": [
    "df = pd.read_csv(\"online_retail_II.csv\",parse_dates=['InvoiceDate'])\n",
    "df.rename(columns={'Customer ID':'CustomerID'},inplace=True)"
   ]
  },
  {
   "cell_type": "code",
   "execution_count": null,
   "id": "e1ebf51d-542c-49f8-8ee0-7ad852cf1f01",
   "metadata": {},
   "outputs": [],
   "source": [
    "df"
   ]
  },
  {
   "cell_type": "markdown",
   "id": "56515f60-505d-4b28-a48e-fb0494f81791",
   "metadata": {},
   "source": [
    "# Data Quality Analysis"
   ]
  },
  {
   "cell_type": "code",
   "execution_count": null,
   "id": "5438f237-d49a-488a-8744-bb1a74097e88",
   "metadata": {},
   "outputs": [],
   "source": [
    "df.describe()"
   ]
  },
  {
   "cell_type": "markdown",
   "id": "2fc92fe7-1553-449b-a6c5-0db7432fe615",
   "metadata": {},
   "source": [
    "- Ada Quantity dan Price yang negative\n",
    "- Ada banyak CustomerID yang missing\n",
    "- Ada quantity hingga ribuan"
   ]
  },
  {
   "cell_type": "code",
   "execution_count": null,
   "id": "7b05af1a-1a48-4410-9ba6-2cbdd7a9976b",
   "metadata": {},
   "outputs": [],
   "source": [
    "df['Quantity'].plot(kind='box')"
   ]
  },
  {
   "cell_type": "code",
   "execution_count": null,
   "id": "c02af78d-5743-4b0b-bf59-74b7e671ab00",
   "metadata": {},
   "outputs": [],
   "source": [
    "df[df['Quantity']<0].sample(10)"
   ]
  },
  {
   "cell_type": "markdown",
   "id": "14beb676-67f9-4c25-a680-82fb0c38d830",
   "metadata": {},
   "source": [
    "Quantity Negative terjadi pada :\n",
    "- Invoice yang depannya C, yang berarti cancelled\n",
    "- Invoice tanpa CustomerID"
   ]
  },
  {
   "cell_type": "code",
   "execution_count": null,
   "id": "2b5f9adb-0ed9-4b2d-a3c3-b93dee979fd8",
   "metadata": {},
   "outputs": [],
   "source": [
    "df.sort_values('Quantity').tail(5)"
   ]
  },
  {
   "cell_type": "code",
   "execution_count": null,
   "id": "f30983c1-5a8a-4398-83c0-4c5baff22b0f",
   "metadata": {},
   "outputs": [],
   "source": [
    "df.query('Quantity>0')['Quantity'].describe(percentiles=[0.5,0.8,0.9,0.95,0.99,0.999])"
   ]
  },
  {
   "cell_type": "markdown",
   "id": "74d57f40-65a3-4bb2-8d75-0a37d558c13f",
   "metadata": {},
   "source": [
    "Bahkan top 99.9% transaksi adalah 50 item. Ratusan item disini lumayan mencurigakan dan akan kita exclude di analysis nantinya"
   ]
  },
  {
   "cell_type": "code",
   "execution_count": null,
   "id": "90c521fc-3871-4d06-b4a9-2a87bf970e1b",
   "metadata": {},
   "outputs": [],
   "source": [
    "df.sort_values('Price').tail(5)"
   ]
  },
  {
   "cell_type": "markdown",
   "id": "52a72c2a-a6ff-4c75-b6b6-9fb4c0779bdd",
   "metadata": {},
   "source": [
    "Description Manual menunjukkan transaksi yang bukan belanja"
   ]
  },
  {
   "cell_type": "code",
   "execution_count": null,
   "id": "4fa45b3e-a10c-4fdd-a542-d979bb64b3e5",
   "metadata": {},
   "outputs": [],
   "source": [
    "df.query('Quantity>0').sort_values('Price').tail(5)"
   ]
  },
  {
   "cell_type": "markdown",
   "id": "8391a340-76a2-436c-a62e-c1b75ee90ab1",
   "metadata": {},
   "source": [
    "CustomerID null menunjukkan transaksi selain pembelian, lebih baik nantinya kita buang dari data"
   ]
  },
  {
   "cell_type": "code",
   "execution_count": null,
   "id": "554e5881-6adb-4785-aa77-7ca8716eef3f",
   "metadata": {},
   "outputs": [],
   "source": [
    "drop_stock_code = ['POST','DOT','ADJUST','ADJUST2','M','B','AMAZONFEE']\n",
    "df[~df['StockCode'].isin(drop_stock_code)].dropna(subset=['CustomerID']).query('Quantity>0').sort_values('Price')"
   ]
  },
  {
   "cell_type": "markdown",
   "id": "05bde500-edf8-4ebd-a90d-b7bce361f584",
   "metadata": {},
   "source": [
    "# Data Cleansing"
   ]
  },
  {
   "cell_type": "code",
   "execution_count": null,
   "id": "156f2d6c-b33f-446b-ae7f-675944527034",
   "metadata": {},
   "outputs": [],
   "source": [
    "df.dropna(subset=['CustomerID'],inplace=True) # Membuang CustomerID yang null\n",
    "\n",
    "df = df[df['Quantity']<=df['Quantity'].quantile(0.99)] # Membuang Quantity yang terlalu ekstrim\n",
    "\n",
    "df = df[df['Invoice'].str[0]!=\"C\"] # Membuang invoice yang batal\n",
    "\n",
    "df = df[df['Quantity']>0] # Mengambil quantity yang tag negative\n",
    "df = df[~df['StockCode'].isin(drop_stock_code)] # Membuang beberapa code yang tidak terkait belanja\n",
    "df['total_payment'] = df['Quantity']*df['Price']"
   ]
  },
  {
   "cell_type": "markdown",
   "id": "401d9de6-3ae8-4c95-ad35-90f3cb7b7ee1",
   "metadata": {},
   "source": [
    "# EDA"
   ]
  },
  {
   "cell_type": "code",
   "execution_count": null,
   "id": "57f64912-a923-4e27-873a-10de75cad405",
   "metadata": {},
   "outputs": [],
   "source": [
    "df"
   ]
  },
  {
   "cell_type": "code",
   "execution_count": null,
   "id": "0344aef2-36d2-4e63-929e-74d48d1471fd",
   "metadata": {},
   "outputs": [],
   "source": [
    "df.groupby('Country').agg({'Invoice':'nunique','total_payment':'sum','CustomerID':'nunique'}).sort_values('Invoice',ascending=False)"
   ]
  },
  {
   "cell_type": "code",
   "execution_count": null,
   "id": "b2af1fb8-f879-438f-abe6-46555d31e7f1",
   "metadata": {},
   "outputs": [],
   "source": [
    "df"
   ]
  },
  {
   "cell_type": "code",
   "execution_count": null,
   "id": "95f550b3-f14f-43c2-b774-b647c0bee43e",
   "metadata": {},
   "outputs": [],
   "source": [
    "df['InvoiceTimeStamp'] = df['InvoiceDate'].copy()\n",
    "df['InvoiceDate'] = df['InvoiceDate'].dt.normalize() # Mereset jam"
   ]
  },
  {
   "cell_type": "code",
   "execution_count": null,
   "id": "cc73285d-92a9-4f95-bbf4-aab2a838ad39",
   "metadata": {},
   "outputs": [],
   "source": [
    "df.groupby('InvoiceDate')['Invoice'].nunique().plot()"
   ]
  },
  {
   "cell_type": "code",
   "execution_count": null,
   "id": "1c4686b8-50d0-4796-8d74-0035c1a9711c",
   "metadata": {},
   "outputs": [],
   "source": [
    "df.groupby('InvoiceDate')['total_payment'].sum().plot()"
   ]
  },
  {
   "cell_type": "markdown",
   "id": "2ce60d24-631e-4b6d-9cbd-873bac81ef73",
   "metadata": {},
   "source": [
    "Pertanyaan yang harus dijawab :\n",
    "- Apakah kita melakukan RFM segmentation ke seluruh customer? Apakah segmentasi perlu dibedakan antar negara?"
   ]
  },
  {
   "cell_type": "code",
   "execution_count": null,
   "id": "b2beaa36-87ac-4ec9-a212-91a616beccfd",
   "metadata": {},
   "outputs": [],
   "source": [
    "# Mari fokus ke customer dari United Kingdom saja\n",
    "df = df[df['Country']=='United Kingdom']"
   ]
  },
  {
   "cell_type": "markdown",
   "id": "4dec7645-4b93-4d2d-985e-f913db906a6b",
   "metadata": {},
   "source": [
    "# Melakukan Analysis RFM\n",
    "\n",
    "# Recency Calculation"
   ]
  },
  {
   "cell_type": "code",
   "execution_count": null,
   "id": "3a9fa867-f861-473e-90d8-a081b8411029",
   "metadata": {},
   "outputs": [],
   "source": [
    "df.sort_values('InvoiceDate').groupby('CustomerID').tail(1)"
   ]
  },
  {
   "cell_type": "code",
   "execution_count": null,
   "id": "8713ed7b-3d05-4055-b6e2-75044e8e1f6c",
   "metadata": {},
   "outputs": [],
   "source": [
    "# Recency\n",
    "latest_date = df['InvoiceDate'].max()\n",
    "latest_trx_per_customer = df.sort_values('InvoiceDate').groupby('CustomerID').tail(1)\n",
    "latest_trx_per_customer['days_to_today'] = latest_date - latest_trx_per_customer['InvoiceDate']\n",
    "latest_trx_per_customer['days_to_today']"
   ]
  },
  {
   "cell_type": "code",
   "execution_count": null,
   "id": "344ad3f5-f913-4f18-94a1-90a79c1add20",
   "metadata": {},
   "outputs": [],
   "source": [
    "latest_trx_per_customer['days_to_today'] = latest_trx_per_customer['days_to_today'].dt.days # mengubah timedelta menjadi integer"
   ]
  },
  {
   "cell_type": "code",
   "execution_count": null,
   "id": "e2a2a533-1622-438d-8e6d-e0a8ee59b98b",
   "metadata": {},
   "outputs": [],
   "source": [
    "df_recency = latest_trx_per_customer[['CustomerID','days_to_today']]\n",
    "df_recency['days_to_today'].plot(kind='hist')"
   ]
  },
  {
   "cell_type": "code",
   "execution_count": null,
   "id": "122d1a05-5a6f-4ab0-aa95-b42671a0f7ab",
   "metadata": {},
   "outputs": [],
   "source": [
    "df_recency['R_score'] = pd.qcut(df_recency['days_to_today'],3,labels=['Recent','Normal','Long'])"
   ]
  },
  {
   "cell_type": "code",
   "execution_count": null,
   "id": "2b601fe1-261a-4233-b3ca-cd6db9a110c7",
   "metadata": {},
   "outputs": [],
   "source": [
    "df_recency"
   ]
  },
  {
   "cell_type": "code",
   "execution_count": null,
   "id": "9ad4afae-5d97-4aa7-b7fb-9bfc963633e5",
   "metadata": {},
   "outputs": [],
   "source": [
    "df_recency.groupby('R_score').agg({'days_to_today':['min','max','mean','median','count']})"
   ]
  },
  {
   "cell_type": "markdown",
   "id": "76ee2f38-de04-46b8-8d27-a111521d3780",
   "metadata": {},
   "source": [
    "# Volume Calculation"
   ]
  },
  {
   "cell_type": "code",
   "execution_count": null,
   "id": "32bbed39-730f-4ee3-a01a-c5f2c217f9f4",
   "metadata": {},
   "outputs": [],
   "source": [
    "df_volume = df.groupby('CustomerID').agg({'total_payment':'sum'})\n",
    "df_volume['total_payment'].plot(kind='hist',bins=100)\n"
   ]
  },
  {
   "cell_type": "code",
   "execution_count": null,
   "id": "ad9177c9-ee9a-48f1-8edf-b535067859cd",
   "metadata": {},
   "outputs": [],
   "source": [
    "df_volume['V_score'] = pd.qcut(df_volume['total_payment'],3,labels=['Low','Medium','High'])"
   ]
  },
  {
   "cell_type": "code",
   "execution_count": null,
   "id": "1f55b83d-8fd6-4d19-8ef6-76eaeeef3068",
   "metadata": {},
   "outputs": [],
   "source": [
    "df_volume"
   ]
  },
  {
   "cell_type": "code",
   "execution_count": null,
   "id": "b9ca5ac7-302f-4eab-9696-ac6e745669ff",
   "metadata": {},
   "outputs": [],
   "source": [
    "df_volume.groupby('V_score').agg({'total_payment':['min','max','mean','median','count']})"
   ]
  },
  {
   "cell_type": "markdown",
   "id": "0411606c-4f93-4200-ab31-ba1860d3e879",
   "metadata": {},
   "source": [
    "# Frequency"
   ]
  },
  {
   "cell_type": "code",
   "execution_count": null,
   "id": "a0553b81-2e1c-4f78-a99a-78c031292158",
   "metadata": {},
   "outputs": [],
   "source": [
    "df_frequency = df.groupby('CustomerID').agg({'Invoice':'nunique'})\n",
    "df_frequency['Invoice'].plot(kind='hist',bins=100)"
   ]
  },
  {
   "cell_type": "code",
   "execution_count": null,
   "id": "58e3d68a-7391-4ad0-a0fd-47fc079ed80c",
   "metadata": {},
   "outputs": [],
   "source": [
    "df_frequency['F_score'] = pd.qcut(df_frequency['Invoice'],3,labels=['Low','Medium','High'])"
   ]
  },
  {
   "cell_type": "code",
   "execution_count": null,
   "id": "8cf3f5ba-da43-4ff9-b2b1-5e2085296c61",
   "metadata": {},
   "outputs": [],
   "source": [
    "df_frequency.groupby('F_score').agg({'Invoice':['min','max','mean','median','count']})"
   ]
  },
  {
   "cell_type": "code",
   "execution_count": null,
   "id": "48d086a4-fd70-4f5e-bcce-e4ed3a1043e9",
   "metadata": {},
   "outputs": [],
   "source": [
    "import numpy as np\n",
    "df_frequency['F_score'] = pd.cut(df_frequency['Invoice'],bins=[0,5,25,np.Inf],labels=['Low','Medium','High'],right=True)"
   ]
  },
  {
   "cell_type": "code",
   "execution_count": null,
   "id": "e85cff9f-a0e7-47b3-96e1-a1145176bbb3",
   "metadata": {},
   "outputs": [],
   "source": [
    "df_frequency['F_score'].value_counts()"
   ]
  },
  {
   "cell_type": "code",
   "execution_count": null,
   "id": "ca8ea38d-8c69-48e4-9b45-3afc83f3b34d",
   "metadata": {},
   "outputs": [],
   "source": [
    "df_frequency.groupby('F_score').agg({'Invoice':['min','max','mean','median','count']})"
   ]
  },
  {
   "cell_type": "markdown",
   "id": "48e86b1b-e5d1-44b7-afc4-5e7893fcdc16",
   "metadata": {},
   "source": [
    "# Penggabungan ketiga komponen"
   ]
  },
  {
   "cell_type": "code",
   "execution_count": null,
   "id": "fd644e2b-5fa7-4989-9b51-48496a35c0de",
   "metadata": {},
   "outputs": [],
   "source": [
    "df_frequency.head(2)"
   ]
  },
  {
   "cell_type": "code",
   "execution_count": null,
   "id": "fa9d202c-d52e-415b-b5ad-6172eb22e102",
   "metadata": {},
   "outputs": [],
   "source": [
    "df_recency.head(2)"
   ]
  },
  {
   "cell_type": "code",
   "execution_count": null,
   "id": "c27e9c34-a3f7-449e-a600-92afc7e21bbc",
   "metadata": {},
   "outputs": [],
   "source": [
    "df_volume.head(2)"
   ]
  },
  {
   "cell_type": "code",
   "execution_count": null,
   "id": "33d47744-b0cb-4144-b941-bd3fce201fbb",
   "metadata": {},
   "outputs": [],
   "source": [
    "df_recency.set_index('CustomerID')['R_score']"
   ]
  },
  {
   "cell_type": "code",
   "execution_count": null,
   "id": "baf02847-8964-462a-bce3-c8074c81df46",
   "metadata": {},
   "outputs": [],
   "source": [
    "recency = df_recency.set_index('CustomerID')['R_score']\n",
    "volume = df_volume['V_score']\n",
    "frequency = df_frequency['F_score']"
   ]
  },
  {
   "cell_type": "code",
   "execution_count": null,
   "id": "3333dd15-e1c8-4394-a420-5c9c62d92fb3",
   "metadata": {},
   "outputs": [],
   "source": [
    "df_rfm = pd.concat([recency,volume,frequency],axis=1)"
   ]
  },
  {
   "cell_type": "code",
   "execution_count": null,
   "id": "c888f26d-bca4-4bfc-adaf-01119a3edfe9",
   "metadata": {},
   "outputs": [],
   "source": [
    "df_rfm"
   ]
  },
  {
   "cell_type": "markdown",
   "id": "887b26e9-336a-40ba-a7fc-de83b24bea3d",
   "metadata": {},
   "source": [
    "Contoh pembagian berdasarkan RFM Analysis\n",
    "1. High value Customers\n",
    "2. Mid value Customers\n",
    "3. Low value Customers\n",
    "4. Dormant Customers\n",
    "\n",
    "Contoh lain pembagian RFM :\n",
    "- Top Customer (customers with high scores for all three parameters)\n",
    "- Newcomers (customers with high recency but low frequency and monetary scores)\n",
    "- at-risk customers (customers with low scores for all three parameters)"
   ]
  },
  {
   "cell_type": "code",
   "execution_count": null,
   "id": "f312c52a-e6e4-4310-8086-654c057d27f8",
   "metadata": {},
   "outputs": [],
   "source": [
    "df_rfm.value_counts()"
   ]
  },
  {
   "cell_type": "markdown",
   "id": "706babf4-b96a-44b0-9077-5def5a5032d3",
   "metadata": {},
   "source": [
    "# Challenge\n",
    "\n",
    "Tim marketing ingin \"membangkitkan\" customer customer yang \"Big dormant\".\n",
    "\n",
    "Big dormant adalah customer dengan : \n",
    "- R_score : Long\n",
    "- V_score : Medium or High\n",
    "- F_score : Medium or High  \n",
    "Jika V_score dan F_score keduanya Medium maka tidak termasuk ke kategori \"Big Dormant\"  \n",
    "\n",
    "Jika campaign yang mereka buat sukses membuat customer \"Big dormant\" ber transaksi seperti biasa, berapa total transaksi yang akan dihasilkan selama 1 bulan kedepan."
   ]
  }
 ],
 "metadata": {
  "kernelspec": {
   "display_name": "Python 3 (ipykernel)",
   "language": "python",
   "name": "python3"
  },
  "language_info": {
   "codemirror_mode": {
    "name": "ipython",
    "version": 3
   },
   "file_extension": ".py",
   "mimetype": "text/x-python",
   "name": "python",
   "nbconvert_exporter": "python",
   "pygments_lexer": "ipython3",
   "version": "3.10.9"
  }
 },
 "nbformat": 4,
 "nbformat_minor": 5
}
