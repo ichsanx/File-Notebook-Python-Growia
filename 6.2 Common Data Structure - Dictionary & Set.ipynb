{
 "cells": [
  {
   "cell_type": "markdown",
   "id": "760d476f-bdc4-4e15-bf94-d307fafaa028",
   "metadata": {},
   "source": [
    "# 4 Data Structure di Python : Dictionary & Set\n",
    "\n",
    "## Dictionary\n",
    "\n",
    "Dictionary adalah struktur data yang menyimpan data dengan format key-value"
   ]
  },
  {
   "cell_type": "code",
   "execution_count": 1,
   "id": "4e98f7bc-95ae-4c86-b3b6-6786d582f005",
   "metadata": {},
   "outputs": [],
   "source": [
    "dictionary_kosong = {}"
   ]
  },
  {
   "cell_type": "code",
   "execution_count": 3,
   "id": "1e9f1210-205e-4857-8a8f-0332b9a4211f",
   "metadata": {},
   "outputs": [],
   "source": [
    "makanan_favorit = {'adi':'rendang','bono':'nasi goreng'}"
   ]
  },
  {
   "cell_type": "code",
   "execution_count": 5,
   "id": "ca7b36b3-3a44-4547-8cc1-fb9d0a1f48c0",
   "metadata": {},
   "outputs": [
    {
     "ename": "KeyError",
     "evalue": "0",
     "output_type": "error",
     "traceback": [
      "\u001b[1;31m---------------------------------------------------------------------------\u001b[0m",
      "\u001b[1;31mKeyError\u001b[0m                                  Traceback (most recent call last)",
      "Cell \u001b[1;32mIn[5], line 1\u001b[0m\n\u001b[1;32m----> 1\u001b[0m makanan_favorit[\u001b[38;5;241m0\u001b[39m]\n",
      "\u001b[1;31mKeyError\u001b[0m: 0"
     ]
    }
   ],
   "source": [
    "makanan_favorit[0] # Dictionary tidak menyimpan data secara terurut"
   ]
  },
  {
   "cell_type": "code",
   "execution_count": 6,
   "id": "bce8cdf3-c6ee-47a9-a96a-0bc965f2b773",
   "metadata": {},
   "outputs": [
    {
     "data": {
      "text/plain": [
       "'rendang'"
      ]
     },
     "execution_count": 6,
     "metadata": {},
     "output_type": "execute_result"
    }
   ],
   "source": [
    "makanan_favorit['adi'] # Pengambilan elemen dilakukan dengan memanggil key"
   ]
  },
  {
   "cell_type": "markdown",
   "id": "776f4078-dd39-4f43-9d1a-15aeac594d79",
   "metadata": {},
   "source": [
    "# Membuang dan menambah elemen di dictionary"
   ]
  },
  {
   "cell_type": "code",
   "execution_count": 15,
   "id": "7e1d10b6-9e17-422b-943f-c32af0970e35",
   "metadata": {},
   "outputs": [],
   "source": [
    "makanan_favorit['Bono'] = 'nasi goreng'"
   ]
  },
  {
   "cell_type": "code",
   "execution_count": 16,
   "id": "a7d5be92-5099-4854-a2a9-89b7b31e9bf0",
   "metadata": {},
   "outputs": [
    {
     "data": {
      "text/plain": [
       "{'adi': 'rendang',\n",
       " 'Arnold': 'rawon',\n",
       " 'vinson': 'gado gado',\n",
       " 'doni': 'ketoprak',\n",
       " 'Bono': 'nasi goreng'}"
      ]
     },
     "execution_count": 16,
     "metadata": {},
     "output_type": "execute_result"
    }
   ],
   "source": [
    "makanan_favorit.update({\"vinson\":\"gado gado\",\"doni\":\"ketoprak\"})\n",
    "makanan_favorit"
   ]
  },
  {
   "cell_type": "code",
   "execution_count": 13,
   "id": "454242c3-5959-4f59-a402-0974a46d16f3",
   "metadata": {},
   "outputs": [],
   "source": [
    "del makanan_favorit['bono'] # menghapus"
   ]
  },
  {
   "cell_type": "code",
   "execution_count": 14,
   "id": "eecbe30a-3c8d-4334-bf90-2402de40298e",
   "metadata": {},
   "outputs": [
    {
     "data": {
      "text/plain": [
       "{'adi': 'rendang',\n",
       " 'Arnold': 'rawon',\n",
       " 'vinson': 'gado gado',\n",
       " 'doni': 'ketoprak'}"
      ]
     },
     "execution_count": 14,
     "metadata": {},
     "output_type": "execute_result"
    }
   ],
   "source": [
    "makanan_favorit"
   ]
  },
  {
   "cell_type": "code",
   "execution_count": 18,
   "id": "b3468d97-b29d-46f5-8b2e-8342cbbd1862",
   "metadata": {},
   "outputs": [
    {
     "data": {
      "text/plain": [
       "{'Tina': 100, 'Budi': 90, 'Kevin': 90, 'Siska': 90, 'Firman': 85, 'Beji': 95}"
      ]
     },
     "execution_count": 18,
     "metadata": {},
     "output_type": "execute_result"
    }
   ],
   "source": [
    "hasil_ujian_A = {'Tina':100,\"Budi\":90,\"Kevin\":90}\n",
    "hasil_ujian_B = {'Siska':90,'Firman':85,'Beji':95}\n",
    "\n",
    "hasil_ujian_A_dan_B = hasil_ujian_A|hasil_ujian_B\n",
    "hasil_ujian_A_dan_B"
   ]
  },
  {
   "cell_type": "markdown",
   "id": "5b1cc7cd-bfcd-434a-8cd8-38aa7fd237fa",
   "metadata": {},
   "source": [
    "## Iterasi dengan Dictionary"
   ]
  },
  {
   "cell_type": "code",
   "execution_count": 19,
   "id": "9ecd2d2a-fdb9-46ef-adf7-5640bec87e65",
   "metadata": {},
   "outputs": [
    {
     "name": "stdout",
     "output_type": "stream",
     "text": [
      "makanan favorit adi adalah rendang\n",
      "makanan favorit bono adalah nasi goreng\n"
     ]
    }
   ],
   "source": [
    "makanan_favorit = {\"adi\":'rendang','bono':'nasi goreng'}\n",
    "for nama in makanan_favorit : #iterasi dictionary\n",
    "    print(\"makanan favorit\",nama, \"adalah\",makanan_favorit[nama])"
   ]
  },
  {
   "cell_type": "code",
   "execution_count": 20,
   "id": "5715319e-cca5-49c1-8adb-c9197a91484b",
   "metadata": {},
   "outputs": [
    {
     "name": "stdout",
     "output_type": "stream",
     "text": [
      "makanan favorit adi adalah rendang\n",
      "makanan favorit bono adalah nasi goreng\n"
     ]
    }
   ],
   "source": [
    "makanan_favorit = {\"adi\":'rendang','bono':'nasi goreng'}\n",
    "for nama,makanan in makanan_favorit.items() : #iterasi dictionary dengan unpacking\n",
    "    print(\"makanan favorit\",nama, \"adalah\",makanan)"
   ]
  },
  {
   "cell_type": "markdown",
   "id": "bff7306c-c44a-4408-911a-07203f95e2d5",
   "metadata": {},
   "source": [
    "# Set\n",
    "\n",
    "Set adalah struktur data untuk menyimpan kumpulan nilai secara tak terurut. Setiap elemen set unik"
   ]
  },
  {
   "cell_type": "code",
   "execution_count": 21,
   "id": "50d224ca-0874-448a-8b50-986f14b77c5a",
   "metadata": {},
   "outputs": [],
   "source": [
    "set_kosong = set()"
   ]
  },
  {
   "cell_type": "code",
   "execution_count": 22,
   "id": "029b8051-05e3-4e44-99ce-8967d04bad42",
   "metadata": {},
   "outputs": [],
   "source": [
    "himpunan_customerID = {'TEGNE4','ESRIUN3','AWIUEG3','AWNRIE0','MERIUW4'}"
   ]
  },
  {
   "cell_type": "code",
   "execution_count": 23,
   "id": "c66914e3-83f1-4d3a-b427-fdde16c57058",
   "metadata": {},
   "outputs": [
    {
     "ename": "TypeError",
     "evalue": "'set' object is not subscriptable",
     "output_type": "error",
     "traceback": [
      "\u001b[1;31m---------------------------------------------------------------------------\u001b[0m",
      "\u001b[1;31mTypeError\u001b[0m                                 Traceback (most recent call last)",
      "Cell \u001b[1;32mIn[23], line 1\u001b[0m\n\u001b[1;32m----> 1\u001b[0m himpunan_customerID[\u001b[38;5;241m0\u001b[39m]\n",
      "\u001b[1;31mTypeError\u001b[0m: 'set' object is not subscriptable"
     ]
    }
   ],
   "source": [
    "himpunan_customerID[0] # Kita tidak bisa mengambil elemen spesifik dari set"
   ]
  },
  {
   "cell_type": "markdown",
   "id": "4e87eb6a-440d-4f0f-b500-6604e7bd6796",
   "metadata": {},
   "source": [
    "Ada 2 cara untuk mengambil suatu elemen spesifik dari set"
   ]
  },
  {
   "cell_type": "markdown",
   "id": "8275801d-efaa-41ed-bbc0-5842631db07b",
   "metadata": {},
   "source": [
    "## Cara 1 : Konversikan menjadi list"
   ]
  },
  {
   "cell_type": "code",
   "execution_count": 24,
   "id": "ad11af35-1913-4a2a-bb31-1c969936e9fb",
   "metadata": {},
   "outputs": [
    {
     "data": {
      "text/plain": [
       "['TEGNE4', 'AWNRIE0', 'AWIUEG3', 'MERIUW4', 'ESRIUN3']"
      ]
     },
     "execution_count": 24,
     "metadata": {},
     "output_type": "execute_result"
    }
   ],
   "source": [
    "list_customerID = list(himpunan_customerID)\n",
    "list_customerID"
   ]
  },
  {
   "cell_type": "markdown",
   "id": "b1625aea-e88d-488f-a05a-56500eb0f688",
   "metadata": {},
   "source": [
    "## Cara 2 : Iterasikan setiap elemennya"
   ]
  },
  {
   "cell_type": "code",
   "execution_count": 25,
   "id": "ee09d951-553e-4387-9804-768f83cdd231",
   "metadata": {},
   "outputs": [
    {
     "name": "stdout",
     "output_type": "stream",
     "text": [
      "TEGNE4\n",
      "AWNRIE0\n",
      "AWIUEG3\n",
      "MERIUW4\n",
      "ESRIUN3\n"
     ]
    }
   ],
   "source": [
    "for customerID in himpunan_customerID :\n",
    "    print(customerID)"
   ]
  },
  {
   "cell_type": "markdown",
   "id": "2b9de322-7d5c-4a39-be6a-777ff9d53a60",
   "metadata": {},
   "source": [
    "# Keunggulan set\n",
    "\n",
    "Set digunakan untuk operasi seperti :\n",
    "- Memerika eksistensi elemen didalam set\n",
    "- Penggabungan (Union), Irisan (Intersection), Selisih (Difference)"
   ]
  },
  {
   "cell_type": "code",
   "execution_count": 28,
   "id": "c8d6c0f6-d72b-4617-9c5f-aee87e3c6039",
   "metadata": {},
   "outputs": [
    {
     "name": "stdout",
     "output_type": "stream",
     "text": [
      "48.6 ns ± 6.31 ns per loop (mean ± std. dev. of 7 runs, 10,000,000 loops each)\n"
     ]
    }
   ],
   "source": [
    "# Memerika apakah angka 1 ada di himpunan\n",
    "# Tidak peduli sebesar apapun set nya, operasi ini akan membutuhkan waktu yang sangat cepat.\n",
    "# Sedangkan jika menggunakan list, semakin panjang listnya maka semakin lama juga waktu untuk memeriksanya\n",
    "\n",
    "%timeit 1 in {100,200,300,2,5,3,1,5,6}"
   ]
  },
  {
   "cell_type": "code",
   "execution_count": 29,
   "id": "04eb5c96-92a3-4e17-b651-de7c0c7a9c27",
   "metadata": {},
   "outputs": [
    {
     "name": "stdout",
     "output_type": "stream",
     "text": [
      "115 ns ± 5.68 ns per loop (mean ± std. dev. of 7 runs, 10,000,000 loops each)\n"
     ]
    }
   ],
   "source": [
    "%timeit 1 in [100,200,300,2,5,3,1,5,6]"
   ]
  },
  {
   "cell_type": "code",
   "execution_count": 30,
   "id": "14bbb374-14fc-4694-984e-be47e0651c29",
   "metadata": {},
   "outputs": [
    {
     "name": "stdout",
     "output_type": "stream",
     "text": [
      "46.3 ns ± 4.35 ns per loop (mean ± std. dev. of 7 runs, 10,000,000 loops each)\n"
     ]
    }
   ],
   "source": [
    "%timeit 1 in {100,200,300,2,5,3,5,6,10,11,12,13,14,15,16,17,18,1,19}"
   ]
  },
  {
   "cell_type": "code",
   "execution_count": 31,
   "id": "1374a8da-5021-4a37-97de-49a01932b017",
   "metadata": {},
   "outputs": [
    {
     "name": "stdout",
     "output_type": "stream",
     "text": [
      "270 ns ± 27.6 ns per loop (mean ± std. dev. of 7 runs, 1,000,000 loops each)\n"
     ]
    }
   ],
   "source": [
    "%timeit 1 in [100,200,300,2,5,3,5,6,10,11,12,13,14,15,16,17,18,1,19]"
   ]
  },
  {
   "cell_type": "code",
   "execution_count": 32,
   "id": "6e0eb5d1-eb18-4446-90d1-adf8878cde9d",
   "metadata": {},
   "outputs": [
    {
     "data": {
      "text/plain": [
       "{'Budi'}"
      ]
     },
     "execution_count": 32,
     "metadata": {},
     "output_type": "execute_result"
    }
   ],
   "source": [
    "daftar_customer_fraud = {\"Tono\",\"Joko\",\"Budi\",\"Shinta\"}\n",
    "daftar_customer_prioritas = {\"Dani\",\"Stella\",\"Budi\"}\n",
    "\n",
    "customer_fraud_dan_prioritas = daftar_customer_fraud.intersection(daftar_customer_prioritas)\n",
    "customer_fraud_dan_prioritas"
   ]
  },
  {
   "cell_type": "code",
   "execution_count": 33,
   "id": "4c8fcc0d-56bd-47ee-b96f-61bffbfc0fbd",
   "metadata": {},
   "outputs": [
    {
     "data": {
      "text/plain": [
       "{'Dani', 'Stella'}"
      ]
     },
     "execution_count": 33,
     "metadata": {},
     "output_type": "execute_result"
    }
   ],
   "source": [
    "customer_prioritas_tidak_fraud = daftar_customer_prioritas.difference(daftar_customer_fraud)\n",
    "customer_prioritas_tidak_fraud"
   ]
  },
  {
   "cell_type": "code",
   "execution_count": 34,
   "id": "678a24c6-f16b-480a-9118-d607078f19bb",
   "metadata": {},
   "outputs": [
    {
     "data": {
      "text/plain": [
       "{'Budi', 'Dani', 'Joko', 'Shinta', 'Stella', 'Tono'}"
      ]
     },
     "execution_count": 34,
     "metadata": {},
     "output_type": "execute_result"
    }
   ],
   "source": [
    "daftar_customer_fraud.union(daftar_customer_prioritas)"
   ]
  },
  {
   "cell_type": "code",
   "execution_count": 35,
   "id": "3a8512ed-9ce8-459d-9ece-534afc01d7f3",
   "metadata": {},
   "outputs": [],
   "source": [
    "daftar_customer_fraud.update({'Rafa'})"
   ]
  },
  {
   "cell_type": "code",
   "execution_count": 36,
   "id": "5ec6af23-010a-4d75-a815-984ee1c88243",
   "metadata": {},
   "outputs": [
    {
     "data": {
      "text/plain": [
       "{'Budi', 'Joko', 'Rafa', 'Shinta', 'Tono'}"
      ]
     },
     "execution_count": 36,
     "metadata": {},
     "output_type": "execute_result"
    }
   ],
   "source": [
    "daftar_customer_fraud"
   ]
  },
  {
   "cell_type": "markdown",
   "id": "1b75465e-86de-4e4c-bf03-ba990f564d74",
   "metadata": {},
   "source": [
    "# Challenge\n",
    "\n",
    "Tim marketing ingin melakukan campaign untuk pelanggan yang jarang berbelanja untuk meningkatkan minat belanja customer.  \n",
    "\n",
    "Target dari campaign ini adalah : \n",
    "- customer yang belum pernah melakukan transaksi diatas Rp. 100.000 dalam 3 transaksi terakhir  \n",
    "**atau**\n",
    "- melakukan transaksi tidak lebih dari 3 kali\n",
    "\n",
    "Data tersedia dalam format berikut :   \n",
    "`dictionary_customer = { \"customer1\": [transaksi1,transaksi2,transaksi3], \"customer2\":[transaksi1] }`\n",
    "\n",
    "`transaksi1` adalah transaksi pertama  \n",
    "contoh :\n",
    "`dictionary_customer = {'A':[250000,135000,2000000,500000],'B':[1000000,1000000,1000000],'C':[200000,20000,10000,50000]}`  \n",
    "\n",
    "dari data berikut :\n",
    "- Customer A tidak mendapatkan campaign karena tidak memenuhi 2 kriteria\n",
    "- customer B mendapat campaign karena transaksinya tidak lebih dari 3 kali\n",
    "- customer C mendapat campaign karena 3 transaksi terbarunya tidak bernilai lebih dari 100000"
   ]
  },
  {
   "cell_type": "code",
   "execution_count": 37,
   "id": "9d51940f-fafa-4a48-b187-1053fe9ae165",
   "metadata": {},
   "outputs": [],
   "source": [
    "def generate_data():\n",
    "    count_customer = 50\n",
    "    import numpy as np\n",
    "    dictionary_customer = {}\n",
    "    for k in range(count_customer):\n",
    "        entry = np.random.choice(np.arange(10000,200000),np.random.choice(7)).tolist()\n",
    "        dictionary_customer.update({str(k):entry})\n",
    "    return dictionary_customer"
   ]
  },
  {
   "cell_type": "code",
   "execution_count": 38,
   "id": "39918ed5-5496-40b0-9e55-861cc0f39f18",
   "metadata": {},
   "outputs": [
    {
     "data": {
      "text/plain": [
       "{'0': [113220, 36145],\n",
       " '1': [181880, 51058],\n",
       " '2': [166171, 132953, 158264, 26365, 95416],\n",
       " '3': [48238, 168803, 36389, 144590, 47590],\n",
       " '4': [133897, 22393, 165431, 91476, 181820, 64397],\n",
       " '5': [38857, 133923, 186309, 109411],\n",
       " '6': [77889, 10343, 135507, 101810, 179206],\n",
       " '7': [16919, 51563, 166152],\n",
       " '8': [70872],\n",
       " '9': [24541, 19653],\n",
       " '10': [],\n",
       " '11': [],\n",
       " '12': [177848, 193374, 151526, 68799, 16943],\n",
       " '13': [40015, 152087, 139752],\n",
       " '14': [68154, 51291],\n",
       " '15': [123300],\n",
       " '16': [183610, 176290],\n",
       " '17': [41419, 63982],\n",
       " '18': [173219, 21950],\n",
       " '19': [47115],\n",
       " '20': [53110, 67113, 100656, 189517, 197537],\n",
       " '21': [169441, 15895, 99028, 82243, 12921],\n",
       " '22': [67010, 78899, 144500, 67159, 116899, 192613],\n",
       " '23': [],\n",
       " '24': [121584, 111334],\n",
       " '25': [146959, 54825],\n",
       " '26': [175112, 194321, 43918],\n",
       " '27': [114732, 125001, 81717, 136627],\n",
       " '28': [84816, 120573, 164899, 114406, 72779, 76853],\n",
       " '29': [75223, 77127],\n",
       " '30': [183171, 183359],\n",
       " '31': [183866, 93565],\n",
       " '32': [57881, 17292, 87911],\n",
       " '33': [171873],\n",
       " '34': [168642, 196985, 82753, 23564],\n",
       " '35': [10540, 31298, 154871],\n",
       " '36': [63007, 123949, 22682],\n",
       " '37': [19911, 108179, 22277, 121226],\n",
       " '38': [108611, 89353, 53678],\n",
       " '39': [72792, 108210, 107344],\n",
       " '40': [155953],\n",
       " '41': [56793, 101926],\n",
       " '42': [103173, 77193, 64519, 162837, 186611],\n",
       " '43': [17735],\n",
       " '44': [63154, 19649],\n",
       " '45': [75980, 80069, 36273, 144615],\n",
       " '46': [153686, 120508, 191828],\n",
       " '47': [120503],\n",
       " '48': [182657, 123429, 30373],\n",
       " '49': [21130, 136228, 124203, 195869, 61395, 86602]}"
      ]
     },
     "execution_count": 38,
     "metadata": {},
     "output_type": "execute_result"
    }
   ],
   "source": [
    "dictionary_customer = generate_data()\n",
    "dictionary_customer"
   ]
  },
  {
   "cell_type": "code",
   "execution_count": null,
   "id": "a7195fcd-6425-41d0-840e-0ae82f3f589f",
   "metadata": {},
   "outputs": [],
   "source": [
    "# Ketik jawaban anda sebelum melihat kunci jawaban!"
   ]
  },
  {
   "cell_type": "code",
   "execution_count": null,
   "id": "00ebf151-acc2-454c-a822-84323435b69b",
   "metadata": {},
   "outputs": [],
   "source": []
  },
  {
   "cell_type": "code",
   "execution_count": null,
   "id": "f3ce5570-cacf-4b00-a034-33b4b0560ec3",
   "metadata": {},
   "outputs": [],
   "source": []
  },
  {
   "cell_type": "code",
   "execution_count": null,
   "id": "36c3f265-7029-46d4-b876-cba731d728d9",
   "metadata": {},
   "outputs": [],
   "source": []
  },
  {
   "cell_type": "code",
   "execution_count": null,
   "id": "087b637e-add0-43f7-b9fd-e346907ec22f",
   "metadata": {},
   "outputs": [],
   "source": []
  },
  {
   "cell_type": "code",
   "execution_count": null,
   "id": "fb57b43c-c4a8-4ab5-94d6-ca2a4d50acca",
   "metadata": {},
   "outputs": [],
   "source": []
  },
  {
   "cell_type": "code",
   "execution_count": null,
   "id": "950ba051-3896-4a6e-9aaf-59fca150a963",
   "metadata": {},
   "outputs": [],
   "source": []
  },
  {
   "cell_type": "code",
   "execution_count": null,
   "id": "1993eec6-ea28-4583-b286-a414a5e98adb",
   "metadata": {},
   "outputs": [],
   "source": []
  },
  {
   "cell_type": "markdown",
   "id": "a5e730ca-a59e-495e-a612-a958ae487464",
   "metadata": {
    "tags": []
   },
   "source": [
    "## Kunci Jawaban"
   ]
  },
  {
   "cell_type": "code",
   "execution_count": 40,
   "id": "4296cbb0-d73d-47d4-9aca-a985e2d3807d",
   "metadata": {},
   "outputs": [],
   "source": [
    "set_customer_target_campaign = set()\n",
    "set_customer_non_target_campaign = set()\n",
    "\n",
    "for customerID, transactions in dictionary_customer.items():\n",
    "    # Kriteria pertama, 3 transaksi terakhir tidak ada yang melebihi 100000\n",
    "    latest_transaction = transactions[-3:]\n",
    "    \n",
    "    small_transaction = True\n",
    "    for trx in latest_transaction :\n",
    "        if trx>100000 :\n",
    "            small_transaction = False\n",
    "        \n",
    "    # Kriteria kedua, banyaknya transaksi tidak lebih dari tiga\n",
    "    if len(transactions)<=3 :\n",
    "        few_transaction = True\n",
    "    else :\n",
    "        few_transaction = False\n",
    "        \n",
    "    # Penggabungan kedua kriteria\n",
    "    \n",
    "    if few_transaction or small_transaction :\n",
    "        set_customer_target_campaign.update({customerID})\n",
    "    else :\n",
    "        set_customer_non_target_campaign.update({customerID})"
   ]
  },
  {
   "cell_type": "code",
   "execution_count": 41,
   "id": "08773e53-f1e9-4c87-abf0-40533b40a2e6",
   "metadata": {},
   "outputs": [
    {
     "data": {
      "text/plain": [
       "{'0',\n",
       " '1',\n",
       " '10',\n",
       " '11',\n",
       " '13',\n",
       " '14',\n",
       " '15',\n",
       " '16',\n",
       " '17',\n",
       " '18',\n",
       " '19',\n",
       " '21',\n",
       " '23',\n",
       " '24',\n",
       " '25',\n",
       " '26',\n",
       " '29',\n",
       " '30',\n",
       " '31',\n",
       " '32',\n",
       " '33',\n",
       " '35',\n",
       " '36',\n",
       " '38',\n",
       " '39',\n",
       " '40',\n",
       " '41',\n",
       " '43',\n",
       " '44',\n",
       " '46',\n",
       " '47',\n",
       " '48',\n",
       " '7',\n",
       " '8',\n",
       " '9'}"
      ]
     },
     "execution_count": 41,
     "metadata": {},
     "output_type": "execute_result"
    }
   ],
   "source": [
    "set_customer_target_campaign"
   ]
  },
  {
   "cell_type": "code",
   "execution_count": 42,
   "id": "cc08b570-14b9-453a-aca5-b1ff327e2262",
   "metadata": {},
   "outputs": [
    {
     "data": {
      "text/plain": [
       "{'12',\n",
       " '2',\n",
       " '20',\n",
       " '22',\n",
       " '27',\n",
       " '28',\n",
       " '3',\n",
       " '34',\n",
       " '37',\n",
       " '4',\n",
       " '42',\n",
       " '45',\n",
       " '49',\n",
       " '5',\n",
       " '6'}"
      ]
     },
     "execution_count": 42,
     "metadata": {},
     "output_type": "execute_result"
    }
   ],
   "source": [
    "set_customer_non_target_campaign"
   ]
  }
 ],
 "metadata": {
  "kernelspec": {
   "display_name": "Python 3 (ipykernel)",
   "language": "python",
   "name": "python3"
  },
  "language_info": {
   "codemirror_mode": {
    "name": "ipython",
    "version": 3
   },
   "file_extension": ".py",
   "mimetype": "text/x-python",
   "name": "python",
   "nbconvert_exporter": "python",
   "pygments_lexer": "ipython3",
   "version": "3.12.7"
  }
 },
 "nbformat": 4,
 "nbformat_minor": 5
}
