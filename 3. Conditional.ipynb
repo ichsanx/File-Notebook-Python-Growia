{
 "cells": [
  {
   "cell_type": "markdown",
   "id": "97c6ec4a-fd45-4fcb-9313-757785f9fe8f",
   "metadata": {},
   "source": [
    "# If - Else\n",
    "If else / branching / conditional statement adalah mekanisme untuk mengeksekusi sebuah code berdasarkan suatu kondisi\n",
    "\n",
    "If else akan dieksekusi berurut dari atas ke bawah. Jika ada kondisi yang terpenuhi maka kondisi setelahnya tidak akan diperiksa"
   ]
  },
  {
   "cell_type": "code",
   "execution_count": 7,
   "id": "135aac50-fd19-4a32-8e1b-9c8eae19ac97",
   "metadata": {},
   "outputs": [
    {
     "name": "stdout",
     "output_type": "stream",
     "text": [
      "Angka positive\n"
     ]
    }
   ],
   "source": [
    "# Code dengan if\n",
    "angka = 100\n",
    "if angka > 0:\n",
    "    print(\"Angka positive\")"
   ]
  },
  {
   "cell_type": "code",
   "execution_count": 10,
   "id": "0197bf0f-578a-443a-bec7-f4c27f092337",
   "metadata": {},
   "outputs": [
    {
     "name": "stdout",
     "output_type": "stream",
     "text": [
      "Domestik\n"
     ]
    }
   ],
   "source": [
    "# Code dengan if dan else\n",
    "negara = 'Indonesia'\n",
    "if negara=='Indonesia':\n",
    "    print('Domestik')\n",
    "else :\n",
    "    print('Internasional')"
   ]
  },
  {
   "cell_type": "code",
   "execution_count": 18,
   "id": "5270af48-4525-4197-87c4-73dd157b6ddf",
   "metadata": {},
   "outputs": [
    {
     "name": "stdout",
     "output_type": "stream",
     "text": [
      "sangat panas\n"
     ]
    }
   ],
   "source": [
    "# Code dengan if, else dan beberapa elif\n",
    "suhu = 100\n",
    "if suhu > 40 :\n",
    "    print('sangat panas')\n",
    "elif suhu > 30 :\n",
    "    print('panas')\n",
    "elif suhu > 20 :\n",
    "    print('sejuk')\n",
    "elif suhu > 10 :\n",
    "    print('dingin')\n",
    "else :\n",
    "    print('sangat dingin')"
   ]
  },
  {
   "cell_type": "code",
   "execution_count": 22,
   "id": "81705d3d-169a-4cff-aa14-e8d4391bbeec",
   "metadata": {},
   "outputs": [
    {
     "name": "stdout",
     "output_type": "stream",
     "text": [
      "Silahkan berobat\n"
     ]
    }
   ],
   "source": [
    "# nested if-else\n",
    "punya_kartu_berobat = True\n",
    "punya_janji_temu = True\n",
    "\n",
    "if not punya_kartu_berobat:\n",
    "    print(\"Harap buat kartu berobat dulu\")\n",
    "else :\n",
    "    if not punya_janji_temu:\n",
    "        print(\"Harap buat janji temu dengan dokter\")\n",
    "    else :\n",
    "        print(\"Silahkan berobat\")"
   ]
  },
  {
   "cell_type": "markdown",
   "id": "93bd0e4b-9804-4b37-bdf9-76ed1b938b68",
   "metadata": {},
   "source": [
    "# Challenge 1\n",
    "Apa keluaran dari program berikut ?"
   ]
  },
  {
   "cell_type": "code",
   "execution_count": 23,
   "id": "6c564c83-a1cf-4cbd-9594-53fc0113382c",
   "metadata": {},
   "outputs": [
    {
     "name": "stdout",
     "output_type": "stream",
     "text": [
      "False\n"
     ]
    }
   ],
   "source": [
    "suhu = 30\n",
    "cuaca = 'hujan'\n",
    "mood = \"senang\"\n",
    "\n",
    "\n",
    "if suhu > 30 :\n",
    "    if cuaca == 'cerah' and mood == 'senang':\n",
    "        pergi_nongkrong = True\n",
    "    elif mood != 'senang':\n",
    "        pergi_nongkrong = False\n",
    "elif cuaca == 'hujan' :\n",
    "    if suhu < 40 :\n",
    "        if mood != \"sedih\":\n",
    "            pergi_nongkrong = False\n",
    "else :\n",
    "    pergi_nongkrong = True\n",
    "print(pergi_nongkrong)"
   ]
  },
  {
   "cell_type": "markdown",
   "id": "584a68c3-f076-47cf-b78d-f446ea615c1d",
   "metadata": {},
   "source": [
    "# Challenge 2"
   ]
  },
  {
   "cell_type": "markdown",
   "id": "c88ad859-a0b0-4768-b9b8-f9aa57cb8af8",
   "metadata": {},
   "source": [
    "Akhir tahun akan tiba, dan HR akan menentukan siapa yang akan mendapatkan bonus dan siapa yang tidak.\n",
    "Anda diminta oleh HR untuk membuat program sederhana untuk menentukan bonnus tim sales.\n",
    "Untuk karyawan yang bergabung < 6 bulan, bonus hanya diberikan apabila karyawan baru tersebut mampu mencetak penjualan 2x dari target.  \n",
    "Sedangkan untuk karyawan yang sudah bergabung lebih dari 6 bulan, bonus dapat diberikan apabila karyawan tersebut mampu mencetak penjualan 1.2 dari target.  \n",
    "\n",
    "Target penjualan departemen penjualan sepatu adalah 140juta rupiah per tahun per orang.  \n",
    "Tono adalah seorang sales yang baru bergabung selama 3 bulan dan mencetak membukukan penjualan sebanyak 80juta rupiah.\n",
    "Andi adalah seoarang sales berpengalaman yang telah bekerja selama 3 tahun dan berhasil membukukan penjualan sebanyak 178 juta rupiah.  \n",
    "\n",
    "Buat program untuk menentukan apakah mereka mendapat bonus atau tidak dengan if-else yang telah anda pelajari"
   ]
  },
  {
   "cell_type": "code",
   "execution_count": 26,
   "id": "a0dd8cee-668d-42e1-8b40-52686789a076",
   "metadata": {},
   "outputs": [
    {
     "name": "stdout",
     "output_type": "stream",
     "text": [
      "False\n"
     ]
    }
   ],
   "source": [
    "## Tono\n",
    "target = 140000000\n",
    "durasi_bergabung = 3\n",
    "hasil_penjualan = 80000000\n",
    "\n",
    "if durasi_bergabung <6 :\n",
    "    mendapat_bonus = hasil_penjualan >=2 * target # isi apakah true atau false\n",
    "else:\n",
    "    mendapat_bonus = hasil_penjualan >=1.2 * target # isi apakah true atau false\n",
    "print(mendapat_bonus)\n"
   ]
  },
  {
   "cell_type": "code",
   "execution_count": 28,
   "id": "334930db-4a7c-4535-815e-b89f485cb6ef",
   "metadata": {},
   "outputs": [
    {
     "name": "stdout",
     "output_type": "stream",
     "text": [
      "True\n"
     ]
    }
   ],
   "source": [
    "## Andi\n",
    "target = 140000000\n",
    "durasi_bergabung = 12*3\n",
    "hasil_penjualan = 178000000\n",
    "\n",
    "if durasi_bergabung <6:\n",
    "    dapat_bonus=hasil_penjualan>=2*target\n",
    "else:\n",
    "    dapat_bonus=hasil_penjualan>=1.2*target\n",
    "print(dapat_bonus)"
   ]
  },
  {
   "cell_type": "code",
   "execution_count": 29,
   "id": "1ffbdef5-9011-4dc7-954b-7ab4a0838f4b",
   "metadata": {},
   "outputs": [
    {
     "name": "stdout",
     "output_type": "stream",
     "text": [
      "False\n"
     ]
    }
   ],
   "source": [
    "## Tono\n",
    "target = 140000000\n",
    "durasi_bergabung = 3\n",
    "hasil_penjualan = 80000000\n",
    "\n",
    "pencapaian = hasil_penjualan/target\n",
    "if durasi_bergabung <6:\n",
    "    if pencapaian >2:\n",
    "        mendapat_bonus = True\n",
    "    else:\n",
    "        mendapat_bonus = False\n",
    "else:\n",
    "    if pencapaian >1.2:\n",
    "        mendapat_bonus = True\n",
    "    else:\n",
    "        mendapat_bonus = False\n",
    "\n",
    "print(mendapat_bonus)"
   ]
  },
  {
   "cell_type": "code",
   "execution_count": 31,
   "id": "e95fa27d-935c-4851-977d-8c4719de9602",
   "metadata": {},
   "outputs": [
    {
     "name": "stdout",
     "output_type": "stream",
     "text": [
      "True\n"
     ]
    }
   ],
   "source": [
    "## Andi\n",
    "target = 140000000\n",
    "durasi_bergabung = 12*3\n",
    "hasil_penjualan = 178000000\n",
    "\n",
    "pencapaian = hasil_penjualan/target\n",
    "if durasi_bergabung <6:\n",
    "    if pencapaian >2:\n",
    "        mendapat_bonus = True\n",
    "    else:\n",
    "        mendapat_bonus = False\n",
    "else:\n",
    "    if pencapaian >1.2:\n",
    "        mendapat_bonus = True\n",
    "    else:\n",
    "        mendapat_bonus = False\n",
    "        \n",
    "print(mendapat_bonus)        "
   ]
  },
  {
   "cell_type": "code",
   "execution_count": null,
   "id": "f003ab1b-2fd3-4ae5-81a4-37c424976e99",
   "metadata": {},
   "outputs": [],
   "source": []
  }
 ],
 "metadata": {
  "kernelspec": {
   "display_name": "Python 3 (ipykernel)",
   "language": "python",
   "name": "python3"
  },
  "language_info": {
   "codemirror_mode": {
    "name": "ipython",
    "version": 3
   },
   "file_extension": ".py",
   "mimetype": "text/x-python",
   "name": "python",
   "nbconvert_exporter": "python",
   "pygments_lexer": "ipython3",
   "version": "3.12.7"
  }
 },
 "nbformat": 4,
 "nbformat_minor": 5
}
